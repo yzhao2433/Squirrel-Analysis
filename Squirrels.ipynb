{
  "nbformat": 4,
  "nbformat_minor": 0,
  "metadata": {
    "colab": {
      "provenance": [],
      "include_colab_link": true
    },
    "kernelspec": {
      "name": "ir",
      "display_name": "R"
    },
    "language_info": {
      "name": "R"
    }
  },
  "cells": [
    {
      "cell_type": "markdown",
      "metadata": {
        "id": "view-in-github",
        "colab_type": "text"
      },
      "source": [
        "<a href=\"https://colab.research.google.com/github/yzhao2433/Squirrel-Analysis/blob/main/Squirrels.ipynb\" target=\"_parent\"><img src=\"https://colab.research.google.com/assets/colab-badge.svg\" alt=\"Open In Colab\"/></a>"
      ]
    },
    {
      "cell_type": "code",
      "source": [
        "install.packages('googledrive') #only need to install occasionally\n",
        "install.packages('httpuv')\n",
        "library(\"googledrive\")\n",
        "library(\"httpuv\")"
      ],
      "metadata": {
        "colab": {
          "base_uri": "https://localhost:8080/",
          "height": 402
        },
        "id": "Oa_3vkjz4B6K",
        "outputId": "83d19d10-6e02-4105-f1f6-9a335f7b316b"
      },
      "execution_count": null,
      "outputs": [
        {
          "output_type": "stream",
          "name": "stderr",
          "text": [
            "Installing package into ‘/usr/local/lib/R/site-library’\n",
            "(as ‘lib’ is unspecified)\n",
            "\n",
            "Installing package into ‘/usr/local/lib/R/site-library’\n",
            "(as ‘lib’ is unspecified)\n",
            "\n",
            "also installing the dependencies ‘later’, ‘promises’, ‘Rcpp’\n",
            "\n",
            "\n",
            "Warning message in install.packages(\"httpuv\"):\n",
            "“installation of package ‘Rcpp’ had non-zero exit status”\n",
            "Warning message in install.packages(\"httpuv\"):\n",
            "“installation of package ‘later’ had non-zero exit status”\n",
            "Warning message in install.packages(\"httpuv\"):\n",
            "“installation of package ‘promises’ had non-zero exit status”\n",
            "Warning message in install.packages(\"httpuv\"):\n",
            "“installation of package ‘httpuv’ had non-zero exit status”\n"
          ]
        },
        {
          "output_type": "error",
          "ename": "ERROR",
          "evalue": "Error in library(\"httpuv\"): there is no package called ‘httpuv’\n",
          "traceback": [
            "Error in library(\"httpuv\"): there is no package called ‘httpuv’\nTraceback:\n",
            "1. library(\"httpuv\")"
          ]
        }
      ]
    },
    {
      "cell_type": "code",
      "source": [
        "if (file.exists(\"/usr/local/lib/python3.7/dist-packages/google/colab/_ipython.py\")) { #may update python version\n",
        "                                       #occasionally\n",
        "  install.packages(\"R.utils\")\n",
        "  library(\"R.utils\")\n",
        "  library(\"httr\")\n",
        "  my_check <- function() {return(TRUE)}\n",
        "  reassignInPackage(\"is_interactive\", pkgName = \"httr\", my_check)\n",
        "  options(rlang_interactive=TRUE)\n",
        "}"
      ],
      "metadata": {
        "id": "t1UQM0j431PU"
      },
      "execution_count": null,
      "outputs": []
    },
    {
      "cell_type": "code",
      "source": [
        "drive_auth(use_oob = TRUE, cache = FALSE)"
      ],
      "metadata": {
        "colab": {
          "base_uri": "https://localhost:8080/"
        },
        "id": "iq93_-5D36hR",
        "outputId": "ed8eb56e-580c-48f3-f66b-d30b483c66e8"
      },
      "execution_count": null,
      "outputs": [
        {
          "output_type": "stream",
          "name": "stderr",
          "text": [
            "Please point your browser to the following url: \n",
            "\n",
            "https://accounts.google.com/o/oauth2/v2/auth?client_id=603366585132-frjlouoa3s2ono25d2l9ukvhlsrlnr7k.apps.googleusercontent.com&scope=https%3A%2F%2Fwww.googleapis.com%2Fauth%2Fdrive%20https%3A%2F%2Fwww.googleapis.com%2Fauth%2Fuserinfo.email&redirect_uri=https%3A%2F%2Fwww.tidyverse.org%2Fgoogle-callback%2F&response_type=code&state=e3e957c68cba666a9334f694be34db39&access_type=offline&prompt=consent\n",
            "\n"
          ]
        }
      ]
    },
    {
      "cell_type": "code",
      "execution_count": null,
      "metadata": {
        "id": "h-ObdGslXVy1"
      },
      "outputs": [],
      "source": [
        "library(tidyverse)\n",
        "library(dplyr)\n",
        "hectare_df <- read.csv(\"/content/2018_Central_Park_Squirrel_Census_-_Hectare_Data_20240322.csv\")\n",
        "squirrel_df <- read.csv(\"/content/2018_Central_Park_Squirrel_Census_-_Squirrel_Data_20240322.csv\")\n"
      ]
    },
    {
      "cell_type": "code",
      "source": [
        "table(squirrel_df$Primary.Fur.Color)"
      ],
      "metadata": {
        "colab": {
          "base_uri": "https://localhost:8080/",
          "height": 69
        },
        "id": "IsMRMxiocX5E",
        "outputId": "be52d10f-d6e4-4b27-bc5c-d1a53e9252cc"
      },
      "execution_count": null,
      "outputs": [
        {
          "output_type": "display_data",
          "data": {
            "text/plain": [
              "\n",
              "            Black Cinnamon     Gray \n",
              "      55      103      392     2473 "
            ]
          },
          "metadata": {}
        }
      ]
    },
    {
      "cell_type": "code",
      "source": [
        "table(squirrel_df$Shift)"
      ],
      "metadata": {
        "colab": {
          "base_uri": "https://localhost:8080/",
          "height": 69
        },
        "id": "fb8K5-B6eBmu",
        "outputId": "d6cadcef-df87-4960-b190-abf5184fe8c3"
      },
      "execution_count": null,
      "outputs": [
        {
          "output_type": "display_data",
          "data": {
            "text/plain": [
              "\n",
              "  AM   PM \n",
              "1347 1676 "
            ]
          },
          "metadata": {}
        }
      ]
    },
    {
      "cell_type": "code",
      "source": [
        "table(squirrel_df$Combination.of.Primary.and.Highlight.Color)\n",
        "color_df <- data\n",
        "\n",
        "print(colnames(squirrel_df))\n",
        "\n",
        "squirrel_df$Chasing <- as.logical(squirrel_df$Chasing)\n",
        "squirrel_df$Climbing <- as.logical(squirrel_df$Climbing)\n",
        "squirrel_df$Running <- as.logical(squirrel_df$Running)\n",
        "squirrel_df$Eating <- as.logical(squirrel_df$Eating)\n",
        "squirrel_df$Foraging <- as.logical(squirrel_df$Foraging)\n",
        "squirrel_df$Approaches <- as.logical(squirrel_df$Approaches)\n",
        "squirrel_df$Runs.from <- as.logical(squirrel_df$Runs.from)\n",
        "\n",
        "squirrel_df <- squirrel_df |>\n",
        "  mutate(Movement = (as.logical(squirrel_df$Chasing) | as.logical(squirrel_df$Climbing) | as.logical(squirrel_df$Running)),\n",
        "          Food = (as.logical(squirrel_df$Eating) | as.logical(squirrel_df$Foraging)))\n",
        "\n",
        "prop.table(table(squirrel_df$Primary.Fur.Color, squirrel_df$Movement), margin = 1)\n",
        "prop.table(table(squirrel_df$Primary.Fur.Color, squirrel_df$Food), margin = 1)\n",
        "prop.table(table(squirrel_df$Primary.Fur.Color, squirrel_df$Runs.from), margin = 1)\n",
        "\n",
        "hectare_df$Conditions <- rep(NA, nrow(hectare_df))\n",
        "hectare_df$Conditions[(hectare_df$Hectare.Conditions == \"Calm, Busy\") | (hectare_df$Hectare.Conditions == \"Medium\") |\n",
        "  (hectare_df$Hectare.Conditions == \"Moderate\")] <- \"Moderate\"\n",
        "hectare_df$Conditions[(hectare_df$Hectare.Conditions == \"Calm\")] <- \"Calm\"\n",
        "hectare_df$Conditions[(hectare_df$Hectare.Conditions == \"Busy\")] <- \"Busy\"\n"
      ],
      "metadata": {
        "colab": {
          "base_uri": "https://localhost:8080/",
          "height": 1000
        },
        "id": "uN1LyMMCY1ni",
        "outputId": "d244d9b9-a00b-463c-9d8a-eddb4b47f21b"
      },
      "execution_count": null,
      "outputs": [
        {
          "output_type": "display_data",
          "data": {
            "text/plain": [
              "\n",
              "                          +                      Black+ \n",
              "                         55                          74 \n",
              "             Black+Cinnamon       Black+Cinnamon, White \n",
              "                         15                           3 \n",
              "                 Black+Gray           Black+Gray, White \n",
              "                          8                           1 \n",
              "                Black+White                   Cinnamon+ \n",
              "                          2                          62 \n",
              "             Cinnamon+Black       Cinnamon+Black, White \n",
              "                         10                           3 \n",
              "              Cinnamon+Gray        Cinnamon+Gray, Black \n",
              "                        162                           3 \n",
              "       Cinnamon+Gray, White              Cinnamon+White \n",
              "                         58                          94 \n",
              "                      Gray+                  Gray+Black \n",
              "                        895                          24 \n",
              "       Gray+Black, Cinnamon Gray+Black, Cinnamon, White \n",
              "                          9                          32 \n",
              "          Gray+Black, White               Gray+Cinnamon \n",
              "                          7                         752 \n",
              "       Gray+Cinnamon, White                  Gray+White \n",
              "                        265                         489 "
            ]
          },
          "metadata": {}
        },
        {
          "output_type": "stream",
          "name": "stdout",
          "text": [
            " [1] \"X\"                                         \n",
            " [2] \"Y\"                                         \n",
            " [3] \"Unique.Squirrel.ID\"                        \n",
            " [4] \"Hectare\"                                   \n",
            " [5] \"Shift\"                                     \n",
            " [6] \"Date\"                                      \n",
            " [7] \"Hectare.Squirrel.Number\"                   \n",
            " [8] \"Age\"                                       \n",
            " [9] \"Primary.Fur.Color\"                         \n",
            "[10] \"Highlight.Fur.Color\"                       \n",
            "[11] \"Combination.of.Primary.and.Highlight.Color\"\n",
            "[12] \"Color.notes\"                               \n",
            "[13] \"Location\"                                  \n",
            "[14] \"Above.Ground.Sighter.Measurement\"          \n",
            "[15] \"Specific.Location\"                         \n",
            "[16] \"Running\"                                   \n",
            "[17] \"Chasing\"                                   \n",
            "[18] \"Climbing\"                                  \n",
            "[19] \"Eating\"                                    \n",
            "[20] \"Foraging\"                                  \n",
            "[21] \"Other.Activities\"                          \n",
            "[22] \"Kuks\"                                      \n",
            "[23] \"Quaas\"                                     \n",
            "[24] \"Moans\"                                     \n",
            "[25] \"Tail.flags\"                                \n",
            "[26] \"Tail.twitches\"                             \n",
            "[27] \"Approaches\"                                \n",
            "[28] \"Indifferent\"                               \n",
            "[29] \"Runs.from\"                                 \n",
            "[30] \"Other.Interactions\"                        \n",
            "[31] \"Lat.Long\"                                  \n"
          ]
        },
        {
          "output_type": "display_data",
          "data": {
            "text/plain": [
              "          \n",
              "               FALSE      TRUE\n",
              "           0.6000000 0.4000000\n",
              "  Black    0.5145631 0.4854369\n",
              "  Cinnamon 0.5306122 0.4693878\n",
              "  Gray     0.5248686 0.4751314"
            ]
          },
          "metadata": {}
        },
        {
          "output_type": "display_data",
          "data": {
            "text/plain": [
              "          \n",
              "               FALSE      TRUE\n",
              "           0.8000000 0.2000000\n",
              "  Black    0.4077670 0.5922330\n",
              "  Cinnamon 0.3290816 0.6709184\n",
              "  Gray     0.3914274 0.6085726"
            ]
          },
          "metadata": {}
        },
        {
          "output_type": "display_data",
          "data": {
            "text/plain": [
              "          \n",
              "               FALSE      TRUE\n",
              "           0.8545455 0.1454545\n",
              "  Black    0.6893204 0.3106796\n",
              "  Cinnamon 0.7780612 0.2219388\n",
              "  Gray     0.7771937 0.2228063"
            ]
          },
          "metadata": {}
        },
        {
          "output_type": "display_data",
          "data": {
            "text/plain": [
              "          \n",
              "                  0-5        16+       5-15\n",
              "  Busy     0.69889503 0.01381215 0.28729282\n",
              "  Calm     0.66403162 0.01185771 0.32411067\n",
              "  Moderate 0.68888889 0.00000000 0.31111111"
            ]
          },
          "metadata": {}
        }
      ]
    },
    {
      "cell_type": "code",
      "source": [
        "which <- squirrel_df$Primary.Fur.Color != \"\"\n",
        "sum(which == TRUE)\n",
        "cleaned_squirrel_df <- squirrel_df[which,]\n",
        "nrow(cleaned_squirrel_df)\n",
        "\n",
        "which <- cleaned_squirrel_df$Age != \"\"\n",
        "sum(which == TRUE)\n",
        "cleaned_squirrel_df <- cleaned_squirrel_df[which,]\n",
        "nrow(cleaned_squirrel_df)\n",
        "\n",
        "write.csv(cleaned_squirrel_df, \"cleaned_squirrel.csv\")"
      ],
      "metadata": {
        "colab": {
          "base_uri": "https://localhost:8080/",
          "height": 86
        },
        "id": "izcpE5Jj0d-B",
        "outputId": "c64cb744-dd8e-4434-8593-180023f0a41a"
      },
      "execution_count": null,
      "outputs": [
        {
          "output_type": "display_data",
          "data": {
            "text/html": [
              "2968"
            ],
            "text/markdown": "2968",
            "text/latex": "2968",
            "text/plain": [
              "[1] 2968"
            ]
          },
          "metadata": {}
        },
        {
          "output_type": "display_data",
          "data": {
            "text/html": [
              "2968"
            ],
            "text/markdown": "2968",
            "text/latex": "2968",
            "text/plain": [
              "[1] 2968"
            ]
          },
          "metadata": {}
        },
        {
          "output_type": "display_data",
          "data": {
            "text/html": [
              "2867"
            ],
            "text/markdown": "2867",
            "text/latex": "2867",
            "text/plain": [
              "[1] 2867"
            ]
          },
          "metadata": {}
        },
        {
          "output_type": "display_data",
          "data": {
            "text/html": [
              "2867"
            ],
            "text/markdown": "2867",
            "text/latex": "2867",
            "text/plain": [
              "[1] 2867"
            ]
          },
          "metadata": {}
        }
      ]
    },
    {
      "cell_type": "code",
      "source": [
        "which <- hectare_df$Hectare.Conditions == \"\"\n",
        "print(sum(which))\n",
        "cleaned_hectare_df <- hectare_df[!which,]\n",
        "print(nrow(cleaned_hectare_df))\n",
        "\n",
        "\n",
        "write.csv(cleaned_hectare_df, \"cleaned_hectare.csv\")"
      ],
      "metadata": {
        "colab": {
          "base_uri": "https://localhost:8080/"
        },
        "id": "0JZUlC854al_",
        "outputId": "f63ba0d2-3e43-4ad8-8e8f-60259d1731cc"
      },
      "execution_count": null,
      "outputs": [
        {
          "output_type": "stream",
          "name": "stdout",
          "text": [
            "[1] 40\n",
            "[1] 660\n"
          ]
        }
      ]
    },
    {
      "cell_type": "code",
      "source": [
        "aggregate_df <- left_join(cleaned_squirrel_df, cleaned_hectare_df, by = c(\"Hectare\",\"Shift\"), relationship = \"many-to-many\")\n",
        "aggregate_df\n",
        "table(aggregate_df$Conditions)\n",
        "write.csv(aggregate_df, \"combined.csv\")"
      ],
      "metadata": {
        "colab": {
          "base_uri": "https://localhost:8080/",
          "height": 1000
        },
        "id": "GwoqpLd_54yt",
        "outputId": "e6b80866-0c4d-488b-e549-d07e26bbb7ca"
      },
      "execution_count": null,
      "outputs": [
        {
          "output_type": "display_data",
          "data": {
            "text/html": [
              "<table class=\"dataframe\">\n",
              "<caption>A data.frame: 2867 × 46</caption>\n",
              "<thead>\n",
              "\t<tr><th scope=col>X</th><th scope=col>Y</th><th scope=col>Unique.Squirrel.ID</th><th scope=col>Hectare</th><th scope=col>Shift</th><th scope=col>Date.x</th><th scope=col>Hectare.Squirrel.Number</th><th scope=col>Age</th><th scope=col>Primary.Fur.Color</th><th scope=col>Highlight.Fur.Color</th><th scope=col>⋯</th><th scope=col>Litter</th><th scope=col>Litter.Notes</th><th scope=col>Other.Animal.Sightings</th><th scope=col>Hectare.Conditions</th><th scope=col>Hectare.Conditions.Notes</th><th scope=col>Number.of.sighters</th><th scope=col>Number.of.Squirrels</th><th scope=col>Total.Time.of.Sighting</th><th scope=col>PopRange</th><th scope=col>Conditions</th></tr>\n",
              "\t<tr><th scope=col>&lt;dbl&gt;</th><th scope=col>&lt;dbl&gt;</th><th scope=col>&lt;chr&gt;</th><th scope=col>&lt;chr&gt;</th><th scope=col>&lt;chr&gt;</th><th scope=col>&lt;int&gt;</th><th scope=col>&lt;int&gt;</th><th scope=col>&lt;chr&gt;</th><th scope=col>&lt;chr&gt;</th><th scope=col>&lt;chr&gt;</th><th scope=col>⋯</th><th scope=col>&lt;chr&gt;</th><th scope=col>&lt;chr&gt;</th><th scope=col>&lt;chr&gt;</th><th scope=col>&lt;chr&gt;</th><th scope=col>&lt;chr&gt;</th><th scope=col>&lt;int&gt;</th><th scope=col>&lt;int&gt;</th><th scope=col>&lt;int&gt;</th><th scope=col>&lt;chr&gt;</th><th scope=col>&lt;chr&gt;</th></tr>\n",
              "</thead>\n",
              "<tbody>\n",
              "\t<tr><td>-73.95964</td><td>40.79031</td><td>32E-PM-1017-14</td><td>32E</td><td>PM</td><td>10172018</td><td>14</td><td>Adult   </td><td>Gray    </td><td>                      </td><td>⋯</td><td>Some    </td><td>                  </td><td>Humans, Dogs                                       </td><td>Busy    </td><td>  </td><td> 1</td><td>16</td><td>25</td><td>16+ </td><td>Busy    </td></tr>\n",
              "\t<tr><td>-73.97027</td><td>40.77621</td><td>13E-AM-1017-05</td><td>13E</td><td>AM</td><td>10172018</td><td> 5</td><td>Adult   </td><td>Gray    </td><td>Cinnamon              </td><td>⋯</td><td>Some    </td><td>                  </td><td>Humans, Birds (non-pigeon)                         </td><td>Calm    </td><td>  </td><td> 1</td><td>13</td><td>50</td><td>5-15</td><td>Calm    </td></tr>\n",
              "\t<tr><td>-73.96836</td><td>40.77259</td><td>11H-AM-1010-03</td><td>11H</td><td>AM</td><td>10102018</td><td> 3</td><td>Adult   </td><td>Cinnamon</td><td>White                 </td><td>⋯</td><td>Some    </td><td>                  </td><td>Humans, Sparrows                                   </td><td>Calm    </td><td>  </td><td> 1</td><td> 9</td><td>20</td><td>5-15</td><td>Calm    </td></tr>\n",
              "\t<tr><td>-73.95412</td><td>40.79318</td><td>36H-AM-1010-02</td><td>36H</td><td>AM</td><td>10102018</td><td> 2</td><td><span style=white-space:pre-wrap>Adult   </span></td><td><span style=white-space:pre-wrap>Gray    </span></td><td><span style=white-space:pre-wrap>                      </span></td><td>⋯</td><td><span style=white-space:pre-wrap>None    </span></td><td><span style=white-space:pre-wrap>                  </span></td><td><span style=white-space:pre-wrap>Dogs, lots of Blue jays &amp; Gackels                  </span></td><td><span style=white-space:pre-wrap>Calm    </span></td><td><span style=white-space:pre-wrap>  </span></td><td> 1</td><td> 2</td><td>26</td><td>0-5 </td><td><span style=white-space:pre-wrap>Calm    </span></td></tr>\n",
              "\t<tr><td>-73.95827</td><td>40.79174</td><td>33F-AM-1008-02</td><td>33F</td><td>AM</td><td>10082018</td><td> 2</td><td>Adult   </td><td>Gray    </td><td>                      </td><td>⋯</td><td>None    </td><td>                  </td><td>Humans, Dogs, blue jay                             </td><td>Calm    </td><td>  </td><td> 1</td><td> 2</td><td>25</td><td>0-5 </td><td>Calm    </td></tr>\n",
              "\t<tr><td>-73.96743</td><td>40.78297</td><td>21C-PM-1006-01</td><td>21C</td><td>PM</td><td>10062018</td><td> 1</td><td>Adult   </td><td>Gray    </td><td>                      </td><td>⋯</td><td>Some    </td><td>                  </td><td>Humans                                             </td><td>Busy    </td><td>  </td><td> 2</td><td> 1</td><td>25</td><td>0-5 </td><td>Busy    </td></tr>\n",
              "\t<tr><td>-73.97225</td><td>40.77429</td><td>11D-AM-1010-03</td><td>11D</td><td>AM</td><td>10102018</td><td> 3</td><td>Adult   </td><td>Gray    </td><td>Cinnamon              </td><td>⋯</td><td>None    </td><td>                  </td><td>Humans, Dogs, Blue jays, Robins                    </td><td>Calm    </td><td>  </td><td> 1</td><td> 8</td><td>20</td><td>5-15</td><td>Calm    </td></tr>\n",
              "\t<tr><td>-73.96951</td><td>40.78235</td><td>20B-PM-1013-05</td><td>20B</td><td>PM</td><td>10132018</td><td> 5</td><td>Adult   </td><td>Gray    </td><td>White                 </td><td>⋯</td><td>Some    </td><td>1 piece of plastic</td><td>Humans, Dogs, Pigeons, Robins, Blackbirds, Sparrows</td><td>Busy    </td><td>  </td><td> 1</td><td>10</td><td>22</td><td>5-15</td><td>Busy    </td></tr>\n",
              "\t<tr><td>-73.96400</td><td>40.78203</td><td>22F-PM-1014-06</td><td>22F</td><td>PM</td><td>10142018</td><td> 6</td><td>Adult   </td><td>Gray    </td><td>                      </td><td>⋯</td><td>        </td><td>                  </td><td>Humans                                             </td><td>Busy    </td><td>  </td><td> 1</td><td> 8</td><td>20</td><td>5-15</td><td>Busy    </td></tr>\n",
              "\t<tr><td>-73.95322</td><td>40.79197</td><td>36I-PM-1007-01</td><td>36I</td><td>PM</td><td>10072018</td><td> 1</td><td>Adult   </td><td>Gray    </td><td>Cinnamon              </td><td>⋯</td><td>None    </td><td>                  </td><td>Humans, Dogs, Blue jays. Robins, Sparrows          </td><td>Busy    </td><td>  </td><td> 1</td><td>13</td><td>30</td><td>5-15</td><td>Busy    </td></tr>\n",
              "\t<tr><td>-73.97686</td><td>40.77028</td><td>5C-PM-1010-09 </td><td>05C</td><td>PM</td><td>10102018</td><td> 9</td><td>Adult   </td><td>Cinnamon</td><td>Gray                  </td><td>⋯</td><td>None    </td><td>                  </td><td>Humans, Dogs                                       </td><td>Busy    </td><td>  </td><td> 1</td><td>13</td><td>20</td><td>5-15</td><td>Busy    </td></tr>\n",
              "\t<tr><td>-73.97061</td><td>40.76981</td><td>7H-AM-1006-05 </td><td>07H</td><td>AM</td><td>10062018</td><td> 5</td><td>Adult   </td><td>Gray    </td><td>Cinnamon              </td><td>⋯</td><td>Some    </td><td>                  </td><td>Sparrows, Butterflies                              </td><td>Busy    </td><td>  </td><td> 2</td><td>16</td><td>30</td><td>16+ </td><td>Busy    </td></tr>\n",
              "\t<tr><td>-73.97038</td><td>40.77875</td><td>16C-PM-1018-03</td><td>16C</td><td>PM</td><td>10182018</td><td> 3</td><td>Adult   </td><td>Gray    </td><td>Cinnamon, White       </td><td>⋯</td><td>Some    </td><td>                  </td><td>Humans, Birds (unknown), Chipmunk                  </td><td>Busy    </td><td>  </td><td> 1</td><td> 3</td><td>24</td><td>0-5 </td><td>Busy    </td></tr>\n",
              "\t<tr><td>-73.97039</td><td>40.77650</td><td>14E-AM-1008-23</td><td>14E</td><td>AM</td><td>10082018</td><td>23</td><td>Adult   </td><td>Gray    </td><td>                      </td><td>⋯</td><td>Some    </td><td>                  </td><td>Humans                                             </td><td>Calm    </td><td>  </td><td> 1</td><td>23</td><td>40</td><td>16+ </td><td>Calm    </td></tr>\n",
              "\t<tr><td>-73.96382</td><td>40.79242</td><td>32A-PM-1013-03</td><td>32A</td><td>PM</td><td>10132018</td><td> 3</td><td>Juvenile</td><td>Gray    </td><td>Cinnamon              </td><td>⋯</td><td>NA      </td><td>NA                </td><td>NA                                                 </td><td>NA      </td><td>NA</td><td>NA</td><td>NA</td><td>NA</td><td>NA  </td><td>NA      </td></tr>\n",
              "\t<tr><td>-73.95841</td><td>40.79138</td><td>33F-AM-1008-01</td><td>33F</td><td>AM</td><td>10082018</td><td> 1</td><td>Adult   </td><td>Gray    </td><td>                      </td><td>⋯</td><td>None    </td><td>                  </td><td>Humans, Dogs, blue jay                             </td><td>Calm    </td><td>  </td><td> 1</td><td> 2</td><td>25</td><td>0-5 </td><td>Calm    </td></tr>\n",
              "\t<tr><td>-73.96711</td><td>40.77849</td><td>17F-AM-1007-07</td><td>17F</td><td>AM</td><td>10072018</td><td> 7</td><td>Adult   </td><td>Gray    </td><td>White                 </td><td>⋯</td><td>None    </td><td>                  </td><td>Humans, Dogs                                       </td><td>Moderate</td><td>  </td><td> 1</td><td> 7</td><td>50</td><td>5-15</td><td>Moderate</td></tr>\n",
              "\t<tr><td>-73.96499</td><td>40.77649</td><td>16I-AM-1008-01</td><td>16I</td><td>AM</td><td>10082018</td><td> 1</td><td>Adult   </td><td>Cinnamon</td><td>Gray, White           </td><td>⋯</td><td>Some    </td><td>                  </td><td>Humans                                             </td><td>Calm    </td><td>  </td><td> 1</td><td> 4</td><td>25</td><td>0-5 </td><td>Calm    </td></tr>\n",
              "\t<tr><td>-73.96706</td><td>40.77350</td><td>12I-AM-1013-01</td><td>12I</td><td>AM</td><td>10132018</td><td> 1</td><td>Adult   </td><td>Cinnamon</td><td>White                 </td><td>⋯</td><td>None    </td><td>                  </td><td>Humans, Dogs                                       </td><td>Calm    </td><td>  </td><td> 1</td><td> 1</td><td>25</td><td>0-5 </td><td>Calm    </td></tr>\n",
              "\t<tr><td>-73.95874</td><td>40.79085</td><td>32F-PM-1008-07</td><td>32F</td><td>PM</td><td>10082018</td><td> 7</td><td>Adult   </td><td>Gray    </td><td>                      </td><td>⋯</td><td>Some    </td><td>                  </td><td>Humans, Dogs                                       </td><td>Busy    </td><td>  </td><td> 1</td><td> 8</td><td>30</td><td>5-15</td><td>Busy    </td></tr>\n",
              "\t<tr><td>-73.96929</td><td>40.77695</td><td>15E-AM-1013-01</td><td>15E</td><td>AM</td><td>10132018</td><td> 1</td><td>Adult   </td><td>Gray    </td><td>White                 </td><td>⋯</td><td>None    </td><td>                  </td><td>Humans                                             </td><td>Calm    </td><td>  </td><td> 1</td><td> 4</td><td>20</td><td>0-5 </td><td>Calm    </td></tr>\n",
              "\t<tr><td>-73.95401</td><td>40.79524</td><td>39G-PM-1013-06</td><td>39G</td><td>PM</td><td>10132018</td><td> 6</td><td>Adult   </td><td>Gray    </td><td>Cinnamon              </td><td>⋯</td><td>Some    </td><td>                  </td><td>Humans, Sleeping possum, Chipmunk, Blue jay        </td><td>Calm    </td><td>  </td><td> 2</td><td> 7</td><td>24</td><td>5-15</td><td>Calm    </td></tr>\n",
              "\t<tr><td>-73.97380</td><td>40.77118</td><td>7E-AM-1006-02 </td><td>07E</td><td>AM</td><td>10062018</td><td> 2</td><td>Adult   </td><td>Gray    </td><td>                      </td><td>⋯</td><td>        </td><td>                  </td><td>Humans, Dogs, Pigeons                              </td><td>Calm    </td><td>  </td><td> 1</td><td> 6</td><td>26</td><td>5-15</td><td>Calm    </td></tr>\n",
              "\t<tr><td>-73.97044</td><td>40.77990</td><td>17C-PM-1013-05</td><td>17C</td><td>PM</td><td>10132018</td><td> 5</td><td>Adult   </td><td>Gray    </td><td>                      </td><td>⋯</td><td>None    </td><td>                  </td><td>Humans                                             </td><td>Busy    </td><td>  </td><td> 1</td><td> 5</td><td>25</td><td>0-5 </td><td>Busy    </td></tr>\n",
              "\t<tr><td>-73.97570</td><td>40.77539</td><td>10A-PM-1014-01</td><td>10A</td><td>PM</td><td>10142018</td><td> 1</td><td>Adult   </td><td>Gray    </td><td>Black, Cinnamon, White</td><td>⋯</td><td>NA      </td><td>NA                </td><td>NA                                                 </td><td>NA      </td><td>NA</td><td>NA</td><td>NA</td><td>NA</td><td>NA  </td><td>NA      </td></tr>\n",
              "\t<tr><td>-73.96624</td><td>40.78904</td><td>28A-PM-1007-05</td><td>28A</td><td>PM</td><td>10072018</td><td> 5</td><td>Adult   </td><td>Cinnamon</td><td>                      </td><td>⋯</td><td>Abundant</td><td>                  </td><td>Humans, Dogs, Birds                                </td><td>Busy    </td><td>  </td><td> 1</td><td> 5</td><td>20</td><td>0-5 </td><td>Busy    </td></tr>\n",
              "\t<tr><td>-73.96432</td><td>40.78208</td><td>22F-PM-1014-05</td><td>22F</td><td>PM</td><td>10142018</td><td> 5</td><td>Adult   </td><td>Gray    </td><td>Cinnamon              </td><td>⋯</td><td>        </td><td>                  </td><td>Humans                                             </td><td>Busy    </td><td>  </td><td> 1</td><td> 8</td><td>20</td><td>5-15</td><td>Busy    </td></tr>\n",
              "\t<tr><td>-73.97421</td><td>40.77580</td><td>12B-AM-1007-01</td><td>12B</td><td>AM</td><td>10072018</td><td> 1</td><td>Adult   </td><td>Gray    </td><td>Cinnamon              </td><td>⋯</td><td>Some    </td><td>                  </td><td>Dogs                                               </td><td>Busy    </td><td>  </td><td> 1</td><td> 2</td><td>NA</td><td>0-5 </td><td>Busy    </td></tr>\n",
              "\t<tr><td>-73.97161</td><td>40.78139</td><td>18A-PM-1018-01</td><td>18A</td><td>PM</td><td>10182018</td><td> 1</td><td>Adult   </td><td>Gray    </td><td>                      </td><td>⋯</td><td>Some    </td><td>                  </td><td>Dogs, Robins, Mourning Dove, Sparrow               </td><td>Busy    </td><td>  </td><td> 1</td><td> 1</td><td>20</td><td>0-5 </td><td>Busy    </td></tr>\n",
              "\t<tr><td>-73.95657</td><td>40.79026</td><td>33H-AM-1019-02</td><td>33H</td><td>AM</td><td>10192018</td><td> 2</td><td>Juvenile</td><td>Gray    </td><td>Cinnamon              </td><td>⋯</td><td>        </td><td>                  </td><td>Humans, Dogs                                       </td><td>Calm    </td><td>  </td><td> 1</td><td> 2</td><td>20</td><td>0-5 </td><td>Calm    </td></tr>\n",
              "\t<tr><td>⋮</td><td>⋮</td><td>⋮</td><td>⋮</td><td>⋮</td><td>⋮</td><td>⋮</td><td>⋮</td><td>⋮</td><td>⋮</td><td>⋱</td><td>⋮</td><td>⋮</td><td>⋮</td><td>⋮</td><td>⋮</td><td>⋮</td><td>⋮</td><td>⋮</td><td>⋮</td><td>⋮</td></tr>\n",
              "\t<tr><td>-73.97660</td><td>40.77123</td><td>6C-AM-1007-05 </td><td>06C</td><td>AM</td><td>10072018</td><td>5</td><td>Adult   </td><td>Gray    </td><td>                      </td><td>⋯</td><td>None</td><td>              </td><td>Humans, Dogs                                                     </td><td>Busy      </td><td>T/V busy with cars. Lots on dogs in ball fields.</td><td> 1</td><td> 8</td><td>25</td><td>5-15</td><td>Busy    </td></tr>\n",
              "\t<tr><td>-73.96846</td><td>40.78489</td><td>23A-AM-1018-05</td><td>23A</td><td>AM</td><td>10182018</td><td>5</td><td>Adult   </td><td>Gray    </td><td>                      </td><td>⋯</td><td>None</td><td>              </td><td>Humans, Dogs                                                     </td><td>Calm      </td><td>                                                </td><td> 1</td><td> 5</td><td>25</td><td>0-5 </td><td>Calm    </td></tr>\n",
              "\t<tr><td>-73.97461</td><td>40.76877</td><td>4F-PM-1013-03 </td><td>04F</td><td>PM</td><td>10132018</td><td>3</td><td>Juvenile</td><td>Cinnamon</td><td>Gray                  </td><td>⋯</td><td>None</td><td>              </td><td>Humans, Dogs, Birds, Rats (Fat), Inchworm                        </td><td>Busy      </td><td>                                                </td><td> 2</td><td> 4</td><td>20</td><td>0-5 </td><td>Busy    </td></tr>\n",
              "\t<tr><td>-73.95707</td><td>40.79857</td><td>40C-AM-1017-04</td><td>40C</td><td>AM</td><td>10172018</td><td>4</td><td>Adult   </td><td>Gray    </td><td>Cinnamon              </td><td>⋯</td><td>None</td><td>              </td><td>Humans, Chipmunk, migratory birds                                </td><td>Calm      </td><td>                                                </td><td> 1</td><td> 7</td><td>23</td><td>5-15</td><td>Calm    </td></tr>\n",
              "\t<tr><td>-73.96172</td><td>40.79228</td><td>33B-AM-1010-01</td><td>33B</td><td>AM</td><td>10102018</td><td>1</td><td>Adult   </td><td>Gray    </td><td>                      </td><td>⋯</td><td>None</td><td>              </td><td>Humans, Dogs                                                     </td><td>Calm      </td><td>                                                </td><td> 1</td><td> 6</td><td>30</td><td>5-15</td><td>Calm    </td></tr>\n",
              "\t<tr><td>-73.97003</td><td>40.77726</td><td>15E-PM-1008-08</td><td>15E</td><td>PM</td><td>10082018</td><td>8</td><td>Adult   </td><td>Gray    </td><td>                      </td><td>⋯</td><td>Some</td><td>              </td><td>Humans                                                           </td><td>Moderate  </td><td>                                                </td><td> 1</td><td>11</td><td>33</td><td>5-15</td><td>Moderate</td></tr>\n",
              "\t<tr><td>-73.96197</td><td>40.79447</td><td>35A-PM-1013-01</td><td>35A</td><td>PM</td><td>10132018</td><td>1</td><td>Adult   </td><td>Gray    </td><td>White                 </td><td>⋯</td><td>None</td><td>              </td><td>Humans, Dogs                                                     </td><td>Calm      </td><td>                                                </td><td> 1</td><td>12</td><td>20</td><td>5-15</td><td>Calm    </td></tr>\n",
              "\t<tr><td>-73.97521</td><td>40.77554</td><td>11B-AM-1007-01</td><td>11B</td><td>AM</td><td>10072018</td><td>1</td><td>Adult   </td><td>Cinnamon</td><td>Gray                  </td><td>⋯</td><td>Some</td><td>              </td><td>Humans, Dogs, Pigeons, Horses                                    </td><td>Busy      </td><td>                                                </td><td> 1</td><td> 5</td><td>30</td><td>0-5 </td><td>Busy    </td></tr>\n",
              "\t<tr><td>-73.97242</td><td>40.77308</td><td>10E-AM-1010-02</td><td>10E</td><td>AM</td><td>10102018</td><td>2</td><td>Adult   </td><td>Black   </td><td>Gray                  </td><td>⋯</td><td>Some</td><td>              </td><td>Humans, Dogs                                                     </td><td>Busy      </td><td>                                                </td><td> 1</td><td> 2</td><td>25</td><td>0-5 </td><td>Busy    </td></tr>\n",
              "\t<tr><td>-73.96883</td><td>40.77390</td><td>12G-AM-1012-04</td><td>12G</td><td>AM</td><td>10122018</td><td>4</td><td>Adult   </td><td>Gray    </td><td>Cinnamon, White       </td><td>⋯</td><td>None</td><td>              </td><td>Humans, Dogs, Blue jay, Sparrows                                 </td><td>Calm      </td><td>                                                </td><td> 1</td><td> 5</td><td>20</td><td>0-5 </td><td>Calm    </td></tr>\n",
              "\t<tr><td>-73.97756</td><td>40.76685</td><td>1D-PM-1007-01 </td><td>01D</td><td>PM</td><td>10072018</td><td>1</td><td>Adult   </td><td>Gray    </td><td>Cinnamon, White       </td><td>⋯</td><td>NA  </td><td>NA            </td><td>NA                                                               </td><td>NA        </td><td>NA                                              </td><td>NA</td><td>NA</td><td>NA</td><td>NA  </td><td>NA      </td></tr>\n",
              "\t<tr><td>-73.97110</td><td>40.76898</td><td>6H-PM-1020-01 </td><td>06H</td><td>PM</td><td>10202018</td><td>1</td><td>Adult   </td><td>Gray    </td><td>Cinnamon, White       </td><td>⋯</td><td>None</td><td>              </td><td>Humans, Birds, Cardinal                                          </td><td>Calm      </td><td>                                                </td><td> 1</td><td> 3</td><td>25</td><td>0-5 </td><td>Calm    </td></tr>\n",
              "\t<tr><td>-73.96987</td><td>40.77400</td><td>12F-PM-1007-09</td><td>12F</td><td>PM</td><td>10072018</td><td>9</td><td>Adult   </td><td>Cinnamon</td><td>Gray                  </td><td>⋯</td><td>    </td><td>              </td><td>Humans, Dogs, Pigeons                                            </td><td>Busy      </td><td>                                                </td><td> 1</td><td>15</td><td>21</td><td>5-15</td><td>Busy    </td></tr>\n",
              "\t<tr><td>-73.95285</td><td>40.79221</td><td>36I-PM-1007-08</td><td>36I</td><td>PM</td><td>10072018</td><td>8</td><td>Juvenile</td><td>Cinnamon</td><td>Gray                  </td><td>⋯</td><td>None</td><td>              </td><td>Humans, Dogs, Blue jays. Robins, Sparrows                        </td><td>Busy      </td><td>                                                </td><td> 1</td><td>13</td><td>30</td><td>5-15</td><td>Busy    </td></tr>\n",
              "\t<tr><td>-73.96161</td><td>40.79218</td><td>33C-PM-1007-04</td><td>33C</td><td>PM</td><td>10072018</td><td>4</td><td>Adult   </td><td>Gray    </td><td>White                 </td><td>⋯</td><td>Some</td><td>              </td><td>Humans, Dogs, Birds                                              </td><td>Busy      </td><td>                                                </td><td> 1</td><td> 4</td><td>20</td><td>0-5 </td><td>Busy    </td></tr>\n",
              "\t<tr><td>-73.97444</td><td>40.76632</td><td>2G-AM-1010-02 </td><td>02G</td><td>AM</td><td>10102018</td><td>2</td><td>Adult   </td><td>Gray    </td><td>                      </td><td>⋯</td><td>None</td><td>              </td><td>Humans, Dogs                                                     </td><td>Busy      </td><td>                                                </td><td> 1</td><td> 4</td><td>20</td><td>0-5 </td><td>Busy    </td></tr>\n",
              "\t<tr><td>-73.96351</td><td>40.79128</td><td>31B-AM-1017-01</td><td>31B</td><td>AM</td><td>10172018</td><td>1</td><td>Adult   </td><td>Gray    </td><td>                      </td><td>⋯</td><td>None</td><td>              </td><td>Humans, Dogs                                                     </td><td>Busy      </td><td>                                                </td><td> 1</td><td> 3</td><td>30</td><td>0-5 </td><td>Busy    </td></tr>\n",
              "\t<tr><td>-73.95035</td><td>40.79765</td><td>42H-PM-1014-04</td><td>42H</td><td>PM</td><td>10142018</td><td>4</td><td>Adult   </td><td>Gray    </td><td>Cinnamon              </td><td>⋯</td><td>Some</td><td>              </td><td>Humans, Dogs, Pigeons                                            </td><td>Busy      </td><td>                                                </td><td> 1</td><td> 5</td><td>30</td><td>0-5 </td><td>Busy    </td></tr>\n",
              "\t<tr><td>-73.95809</td><td>40.79484</td><td>37D-PM-1014-01</td><td>37D</td><td>PM</td><td>10142018</td><td>1</td><td>Adult   </td><td>Gray    </td><td>Cinnamon              </td><td>⋯</td><td>Some</td><td>              </td><td>Humans, Chipmunks                                                </td><td>Calm      </td><td>                                                </td><td> 1</td><td> 8</td><td>26</td><td>5-15</td><td>Calm    </td></tr>\n",
              "\t<tr><td>-73.96788</td><td>40.78476</td><td>23B-PM-1012-06</td><td>23B</td><td>PM</td><td>10122018</td><td>6</td><td>Adult   </td><td>Gray    </td><td>                      </td><td>⋯</td><td>None</td><td>              </td><td>Humans, Dogs, Robins, Jays                                       </td><td>Busy      </td><td>                                                </td><td> 1</td><td> 7</td><td>26</td><td>5-15</td><td>Busy    </td></tr>\n",
              "\t<tr><td>-73.96137</td><td>40.79434</td><td>35B-PM-1013-04</td><td>35B</td><td>PM</td><td>10132018</td><td>4</td><td>Adult   </td><td>Gray    </td><td>                      </td><td>⋯</td><td>None</td><td>              </td><td>Humans, Dogs, Rats, Ducks, Canada Geese                          </td><td>Calm      </td><td>Foot traffic on the path                        </td><td> 1</td><td> 7</td><td>28</td><td>5-15</td><td>Calm    </td></tr>\n",
              "\t<tr><td>-73.96466</td><td>40.77698</td><td>17I-AM-1014-03</td><td>17I</td><td>AM</td><td>10142018</td><td>3</td><td>Adult   </td><td>Gray    </td><td>Cinnamon, White       </td><td>⋯</td><td>Some</td><td>              </td><td>Humans, Dogs                                                     </td><td>Busy      </td><td>With street noise                               </td><td> 1</td><td> 4</td><td>27</td><td>0-5 </td><td>Busy    </td></tr>\n",
              "\t<tr><td>-73.97592</td><td>40.77362</td><td>9B-AM-1010-08 </td><td>09B</td><td>AM</td><td>10102018</td><td>8</td><td>Adult   </td><td>Gray    </td><td>Cinnamon, White       </td><td>⋯</td><td>    </td><td>              </td><td>Blue jay                                                         </td><td>Busy      </td><td>                                                </td><td> 1</td><td> 9</td><td>30</td><td>5-15</td><td>Busy    </td></tr>\n",
              "\t<tr><td>-73.97565</td><td>40.77036</td><td>6D-PM-1020-02 </td><td>06D</td><td>PM</td><td>10202018</td><td>2</td><td>Juvenile</td><td>Gray    </td><td>                      </td><td>⋯</td><td>Some</td><td>              </td><td>Humans, Dogs                                                     </td><td>Busy      </td><td>                                                </td><td> 1</td><td> 6</td><td>25</td><td>5-15</td><td>Busy    </td></tr>\n",
              "\t<tr><td>-73.96629</td><td>40.78433</td><td>23C-AM-1019-01</td><td>23C</td><td>AM</td><td>10192018</td><td>1</td><td>Adult   </td><td>Gray    </td><td>Cinnamon, White       </td><td>⋯</td><td>None</td><td>              </td><td>Humans, Dogs, Falcons                                            </td><td>Busy      </td><td>Noisy                                           </td><td> 1</td><td> 1</td><td>23</td><td>0-5 </td><td>Busy    </td></tr>\n",
              "\t<tr><td>-73.96454</td><td>40.78116</td><td>21F-PM-1018-02</td><td>21F</td><td>PM</td><td>10182018</td><td>2</td><td>Juvenile</td><td>Cinnamon</td><td>Gray                  </td><td>⋯</td><td>Some</td><td>              </td><td>Humans, Dogs                                                     </td><td>Busy      </td><td>                                                </td><td> 1</td><td> 3</td><td>25</td><td>0-5 </td><td>Busy    </td></tr>\n",
              "\t<tr><td>-73.96394</td><td>40.79087</td><td>30B-AM-1007-04</td><td>30B</td><td>AM</td><td>10072018</td><td>4</td><td>Adult   </td><td>Gray    </td><td>                      </td><td>⋯</td><td>Some</td><td>              </td><td>Humans, Dogs, Assorted Birds                                     </td><td>Busy      </td><td>                                                </td><td> 1</td><td>12</td><td>20</td><td>5-15</td><td>Busy    </td></tr>\n",
              "\t<tr><td>-73.97040</td><td>40.78256</td><td>19A-PM-1013-05</td><td>19A</td><td>PM</td><td>10132018</td><td>5</td><td>Adult   </td><td>Gray    </td><td>White                 </td><td>⋯</td><td>Some</td><td>1 reusable bag</td><td>Humans, Dogs, Sparrows, Blue Finch-like Birds, Robins, Blackbirds</td><td>Busy      </td><td>                                                </td><td> 1</td><td> 6</td><td>26</td><td>5-15</td><td>Busy    </td></tr>\n",
              "\t<tr><td>-73.96659</td><td>40.78368</td><td>22D-PM-1012-07</td><td>22D</td><td>PM</td><td>10122018</td><td>7</td><td>Adult   </td><td>Gray    </td><td>Black, Cinnamon, White</td><td>⋯</td><td>None</td><td>              </td><td>Humans, Pigeons, Sparrows                                        </td><td>Calm, Busy</td><td>                                                </td><td> 1</td><td> 7</td><td>26</td><td>5-15</td><td>Moderate</td></tr>\n",
              "\t<tr><td>-73.97548</td><td>40.76964</td><td>5E-PM-1012-01 </td><td>05E</td><td>PM</td><td>10122018</td><td>1</td><td>Adult   </td><td>Cinnamon</td><td>Gray, White           </td><td>⋯</td><td>    </td><td>              </td><td>Humans                                                           </td><td>Busy      </td><td>                                                </td><td> 1</td><td> 6</td><td>44</td><td>5-15</td><td>Busy    </td></tr>\n",
              "</tbody>\n",
              "</table>\n"
            ],
            "text/markdown": "\nA data.frame: 2867 × 46\n\n| X &lt;dbl&gt; | Y &lt;dbl&gt; | Unique.Squirrel.ID &lt;chr&gt; | Hectare &lt;chr&gt; | Shift &lt;chr&gt; | Date.x &lt;int&gt; | Hectare.Squirrel.Number &lt;int&gt; | Age &lt;chr&gt; | Primary.Fur.Color &lt;chr&gt; | Highlight.Fur.Color &lt;chr&gt; | ⋯ ⋯ | Litter &lt;chr&gt; | Litter.Notes &lt;chr&gt; | Other.Animal.Sightings &lt;chr&gt; | Hectare.Conditions &lt;chr&gt; | Hectare.Conditions.Notes &lt;chr&gt; | Number.of.sighters &lt;int&gt; | Number.of.Squirrels &lt;int&gt; | Total.Time.of.Sighting &lt;int&gt; | PopRange &lt;chr&gt; | Conditions &lt;chr&gt; |\n|---|---|---|---|---|---|---|---|---|---|---|---|---|---|---|---|---|---|---|---|---|\n| -73.95964 | 40.79031 | 32E-PM-1017-14 | 32E | PM | 10172018 | 14 | Adult    | Gray     | <!----> | ⋯ | Some     | <!----> | Humans, Dogs                                        | Busy     | <!----> |  1 | 16 | 25 | 16+  | Busy     |\n| -73.97027 | 40.77621 | 13E-AM-1017-05 | 13E | AM | 10172018 |  5 | Adult    | Gray     | Cinnamon               | ⋯ | Some     | <!----> | Humans, Birds (non-pigeon)                          | Calm     | <!----> |  1 | 13 | 50 | 5-15 | Calm     |\n| -73.96836 | 40.77259 | 11H-AM-1010-03 | 11H | AM | 10102018 |  3 | Adult    | Cinnamon | White                  | ⋯ | Some     | <!----> | Humans, Sparrows                                    | Calm     | <!----> |  1 |  9 | 20 | 5-15 | Calm     |\n| -73.95412 | 40.79318 | 36H-AM-1010-02 | 36H | AM | 10102018 |  2 | Adult    | Gray     | <!----> | ⋯ | None     | <!----> | Dogs, lots of Blue jays &amp; Gackels                   | Calm     | <!----> |  1 |  2 | 26 | 0-5  | Calm     |\n| -73.95827 | 40.79174 | 33F-AM-1008-02 | 33F | AM | 10082018 |  2 | Adult    | Gray     | <!----> | ⋯ | None     | <!----> | Humans, Dogs, blue jay                              | Calm     | <!----> |  1 |  2 | 25 | 0-5  | Calm     |\n| -73.96743 | 40.78297 | 21C-PM-1006-01 | 21C | PM | 10062018 |  1 | Adult    | Gray     | <!----> | ⋯ | Some     | <!----> | Humans                                              | Busy     | <!----> |  2 |  1 | 25 | 0-5  | Busy     |\n| -73.97225 | 40.77429 | 11D-AM-1010-03 | 11D | AM | 10102018 |  3 | Adult    | Gray     | Cinnamon               | ⋯ | None     | <!----> | Humans, Dogs, Blue jays, Robins                     | Calm     | <!----> |  1 |  8 | 20 | 5-15 | Calm     |\n| -73.96951 | 40.78235 | 20B-PM-1013-05 | 20B | PM | 10132018 |  5 | Adult    | Gray     | White                  | ⋯ | Some     | 1 piece of plastic | Humans, Dogs, Pigeons, Robins, Blackbirds, Sparrows | Busy     | <!----> |  1 | 10 | 22 | 5-15 | Busy     |\n| -73.96400 | 40.78203 | 22F-PM-1014-06 | 22F | PM | 10142018 |  6 | Adult    | Gray     | <!----> | ⋯ | <!----> | <!----> | Humans                                              | Busy     | <!----> |  1 |  8 | 20 | 5-15 | Busy     |\n| -73.95322 | 40.79197 | 36I-PM-1007-01 | 36I | PM | 10072018 |  1 | Adult    | Gray     | Cinnamon               | ⋯ | None     | <!----> | Humans, Dogs, Blue jays. Robins, Sparrows           | Busy     | <!----> |  1 | 13 | 30 | 5-15 | Busy     |\n| -73.97686 | 40.77028 | 5C-PM-1010-09  | 05C | PM | 10102018 |  9 | Adult    | Cinnamon | Gray                   | ⋯ | None     | <!----> | Humans, Dogs                                        | Busy     | <!----> |  1 | 13 | 20 | 5-15 | Busy     |\n| -73.97061 | 40.76981 | 7H-AM-1006-05  | 07H | AM | 10062018 |  5 | Adult    | Gray     | Cinnamon               | ⋯ | Some     | <!----> | Sparrows, Butterflies                               | Busy     | <!----> |  2 | 16 | 30 | 16+  | Busy     |\n| -73.97038 | 40.77875 | 16C-PM-1018-03 | 16C | PM | 10182018 |  3 | Adult    | Gray     | Cinnamon, White        | ⋯ | Some     | <!----> | Humans, Birds (unknown), Chipmunk                   | Busy     | <!----> |  1 |  3 | 24 | 0-5  | Busy     |\n| -73.97039 | 40.77650 | 14E-AM-1008-23 | 14E | AM | 10082018 | 23 | Adult    | Gray     | <!----> | ⋯ | Some     | <!----> | Humans                                              | Calm     | <!----> |  1 | 23 | 40 | 16+  | Calm     |\n| -73.96382 | 40.79242 | 32A-PM-1013-03 | 32A | PM | 10132018 |  3 | Juvenile | Gray     | Cinnamon               | ⋯ | NA       | NA                 | NA                                                  | NA       | NA | NA | NA | NA | NA   | NA       |\n| -73.95841 | 40.79138 | 33F-AM-1008-01 | 33F | AM | 10082018 |  1 | Adult    | Gray     | <!----> | ⋯ | None     | <!----> | Humans, Dogs, blue jay                              | Calm     | <!----> |  1 |  2 | 25 | 0-5  | Calm     |\n| -73.96711 | 40.77849 | 17F-AM-1007-07 | 17F | AM | 10072018 |  7 | Adult    | Gray     | White                  | ⋯ | None     | <!----> | Humans, Dogs                                        | Moderate | <!----> |  1 |  7 | 50 | 5-15 | Moderate |\n| -73.96499 | 40.77649 | 16I-AM-1008-01 | 16I | AM | 10082018 |  1 | Adult    | Cinnamon | Gray, White            | ⋯ | Some     | <!----> | Humans                                              | Calm     | <!----> |  1 |  4 | 25 | 0-5  | Calm     |\n| -73.96706 | 40.77350 | 12I-AM-1013-01 | 12I | AM | 10132018 |  1 | Adult    | Cinnamon | White                  | ⋯ | None     | <!----> | Humans, Dogs                                        | Calm     | <!----> |  1 |  1 | 25 | 0-5  | Calm     |\n| -73.95874 | 40.79085 | 32F-PM-1008-07 | 32F | PM | 10082018 |  7 | Adult    | Gray     | <!----> | ⋯ | Some     | <!----> | Humans, Dogs                                        | Busy     | <!----> |  1 |  8 | 30 | 5-15 | Busy     |\n| -73.96929 | 40.77695 | 15E-AM-1013-01 | 15E | AM | 10132018 |  1 | Adult    | Gray     | White                  | ⋯ | None     | <!----> | Humans                                              | Calm     | <!----> |  1 |  4 | 20 | 0-5  | Calm     |\n| -73.95401 | 40.79524 | 39G-PM-1013-06 | 39G | PM | 10132018 |  6 | Adult    | Gray     | Cinnamon               | ⋯ | Some     | <!----> | Humans, Sleeping possum, Chipmunk, Blue jay         | Calm     | <!----> |  2 |  7 | 24 | 5-15 | Calm     |\n| -73.97380 | 40.77118 | 7E-AM-1006-02  | 07E | AM | 10062018 |  2 | Adult    | Gray     | <!----> | ⋯ | <!----> | <!----> | Humans, Dogs, Pigeons                               | Calm     | <!----> |  1 |  6 | 26 | 5-15 | Calm     |\n| -73.97044 | 40.77990 | 17C-PM-1013-05 | 17C | PM | 10132018 |  5 | Adult    | Gray     | <!----> | ⋯ | None     | <!----> | Humans                                              | Busy     | <!----> |  1 |  5 | 25 | 0-5  | Busy     |\n| -73.97570 | 40.77539 | 10A-PM-1014-01 | 10A | PM | 10142018 |  1 | Adult    | Gray     | Black, Cinnamon, White | ⋯ | NA       | NA                 | NA                                                  | NA       | NA | NA | NA | NA | NA   | NA       |\n| -73.96624 | 40.78904 | 28A-PM-1007-05 | 28A | PM | 10072018 |  5 | Adult    | Cinnamon | <!----> | ⋯ | Abundant | <!----> | Humans, Dogs, Birds                                 | Busy     | <!----> |  1 |  5 | 20 | 0-5  | Busy     |\n| -73.96432 | 40.78208 | 22F-PM-1014-05 | 22F | PM | 10142018 |  5 | Adult    | Gray     | Cinnamon               | ⋯ | <!----> | <!----> | Humans                                              | Busy     | <!----> |  1 |  8 | 20 | 5-15 | Busy     |\n| -73.97421 | 40.77580 | 12B-AM-1007-01 | 12B | AM | 10072018 |  1 | Adult    | Gray     | Cinnamon               | ⋯ | Some     | <!----> | Dogs                                                | Busy     | <!----> |  1 |  2 | NA | 0-5  | Busy     |\n| -73.97161 | 40.78139 | 18A-PM-1018-01 | 18A | PM | 10182018 |  1 | Adult    | Gray     | <!----> | ⋯ | Some     | <!----> | Dogs, Robins, Mourning Dove, Sparrow                | Busy     | <!----> |  1 |  1 | 20 | 0-5  | Busy     |\n| -73.95657 | 40.79026 | 33H-AM-1019-02 | 33H | AM | 10192018 |  2 | Juvenile | Gray     | Cinnamon               | ⋯ | <!----> | <!----> | Humans, Dogs                                        | Calm     | <!----> |  1 |  2 | 20 | 0-5  | Calm     |\n| ⋮ | ⋮ | ⋮ | ⋮ | ⋮ | ⋮ | ⋮ | ⋮ | ⋮ | ⋮ | ⋱ | ⋮ | ⋮ | ⋮ | ⋮ | ⋮ | ⋮ | ⋮ | ⋮ | ⋮ | ⋮ |\n| -73.97660 | 40.77123 | 6C-AM-1007-05  | 06C | AM | 10072018 | 5 | Adult    | Gray     | <!----> | ⋯ | None | <!----> | Humans, Dogs                                                      | Busy       | T/V busy with cars. Lots on dogs in ball fields. |  1 |  8 | 25 | 5-15 | Busy     |\n| -73.96846 | 40.78489 | 23A-AM-1018-05 | 23A | AM | 10182018 | 5 | Adult    | Gray     | <!----> | ⋯ | None | <!----> | Humans, Dogs                                                      | Calm       | <!----> |  1 |  5 | 25 | 0-5  | Calm     |\n| -73.97461 | 40.76877 | 4F-PM-1013-03  | 04F | PM | 10132018 | 3 | Juvenile | Cinnamon | Gray                   | ⋯ | None | <!----> | Humans, Dogs, Birds, Rats (Fat), Inchworm                         | Busy       | <!----> |  2 |  4 | 20 | 0-5  | Busy     |\n| -73.95707 | 40.79857 | 40C-AM-1017-04 | 40C | AM | 10172018 | 4 | Adult    | Gray     | Cinnamon               | ⋯ | None | <!----> | Humans, Chipmunk, migratory birds                                 | Calm       | <!----> |  1 |  7 | 23 | 5-15 | Calm     |\n| -73.96172 | 40.79228 | 33B-AM-1010-01 | 33B | AM | 10102018 | 1 | Adult    | Gray     | <!----> | ⋯ | None | <!----> | Humans, Dogs                                                      | Calm       | <!----> |  1 |  6 | 30 | 5-15 | Calm     |\n| -73.97003 | 40.77726 | 15E-PM-1008-08 | 15E | PM | 10082018 | 8 | Adult    | Gray     | <!----> | ⋯ | Some | <!----> | Humans                                                            | Moderate   | <!----> |  1 | 11 | 33 | 5-15 | Moderate |\n| -73.96197 | 40.79447 | 35A-PM-1013-01 | 35A | PM | 10132018 | 1 | Adult    | Gray     | White                  | ⋯ | None | <!----> | Humans, Dogs                                                      | Calm       | <!----> |  1 | 12 | 20 | 5-15 | Calm     |\n| -73.97521 | 40.77554 | 11B-AM-1007-01 | 11B | AM | 10072018 | 1 | Adult    | Cinnamon | Gray                   | ⋯ | Some | <!----> | Humans, Dogs, Pigeons, Horses                                     | Busy       | <!----> |  1 |  5 | 30 | 0-5  | Busy     |\n| -73.97242 | 40.77308 | 10E-AM-1010-02 | 10E | AM | 10102018 | 2 | Adult    | Black    | Gray                   | ⋯ | Some | <!----> | Humans, Dogs                                                      | Busy       | <!----> |  1 |  2 | 25 | 0-5  | Busy     |\n| -73.96883 | 40.77390 | 12G-AM-1012-04 | 12G | AM | 10122018 | 4 | Adult    | Gray     | Cinnamon, White        | ⋯ | None | <!----> | Humans, Dogs, Blue jay, Sparrows                                  | Calm       | <!----> |  1 |  5 | 20 | 0-5  | Calm     |\n| -73.97756 | 40.76685 | 1D-PM-1007-01  | 01D | PM | 10072018 | 1 | Adult    | Gray     | Cinnamon, White        | ⋯ | NA   | NA             | NA                                                                | NA         | NA                                               | NA | NA | NA | NA   | NA       |\n| -73.97110 | 40.76898 | 6H-PM-1020-01  | 06H | PM | 10202018 | 1 | Adult    | Gray     | Cinnamon, White        | ⋯ | None | <!----> | Humans, Birds, Cardinal                                           | Calm       | <!----> |  1 |  3 | 25 | 0-5  | Calm     |\n| -73.96987 | 40.77400 | 12F-PM-1007-09 | 12F | PM | 10072018 | 9 | Adult    | Cinnamon | Gray                   | ⋯ | <!----> | <!----> | Humans, Dogs, Pigeons                                             | Busy       | <!----> |  1 | 15 | 21 | 5-15 | Busy     |\n| -73.95285 | 40.79221 | 36I-PM-1007-08 | 36I | PM | 10072018 | 8 | Juvenile | Cinnamon | Gray                   | ⋯ | None | <!----> | Humans, Dogs, Blue jays. Robins, Sparrows                         | Busy       | <!----> |  1 | 13 | 30 | 5-15 | Busy     |\n| -73.96161 | 40.79218 | 33C-PM-1007-04 | 33C | PM | 10072018 | 4 | Adult    | Gray     | White                  | ⋯ | Some | <!----> | Humans, Dogs, Birds                                               | Busy       | <!----> |  1 |  4 | 20 | 0-5  | Busy     |\n| -73.97444 | 40.76632 | 2G-AM-1010-02  | 02G | AM | 10102018 | 2 | Adult    | Gray     | <!----> | ⋯ | None | <!----> | Humans, Dogs                                                      | Busy       | <!----> |  1 |  4 | 20 | 0-5  | Busy     |\n| -73.96351 | 40.79128 | 31B-AM-1017-01 | 31B | AM | 10172018 | 1 | Adult    | Gray     | <!----> | ⋯ | None | <!----> | Humans, Dogs                                                      | Busy       | <!----> |  1 |  3 | 30 | 0-5  | Busy     |\n| -73.95035 | 40.79765 | 42H-PM-1014-04 | 42H | PM | 10142018 | 4 | Adult    | Gray     | Cinnamon               | ⋯ | Some | <!----> | Humans, Dogs, Pigeons                                             | Busy       | <!----> |  1 |  5 | 30 | 0-5  | Busy     |\n| -73.95809 | 40.79484 | 37D-PM-1014-01 | 37D | PM | 10142018 | 1 | Adult    | Gray     | Cinnamon               | ⋯ | Some | <!----> | Humans, Chipmunks                                                 | Calm       | <!----> |  1 |  8 | 26 | 5-15 | Calm     |\n| -73.96788 | 40.78476 | 23B-PM-1012-06 | 23B | PM | 10122018 | 6 | Adult    | Gray     | <!----> | ⋯ | None | <!----> | Humans, Dogs, Robins, Jays                                        | Busy       | <!----> |  1 |  7 | 26 | 5-15 | Busy     |\n| -73.96137 | 40.79434 | 35B-PM-1013-04 | 35B | PM | 10132018 | 4 | Adult    | Gray     | <!----> | ⋯ | None | <!----> | Humans, Dogs, Rats, Ducks, Canada Geese                           | Calm       | Foot traffic on the path                         |  1 |  7 | 28 | 5-15 | Calm     |\n| -73.96466 | 40.77698 | 17I-AM-1014-03 | 17I | AM | 10142018 | 3 | Adult    | Gray     | Cinnamon, White        | ⋯ | Some | <!----> | Humans, Dogs                                                      | Busy       | With street noise                                |  1 |  4 | 27 | 0-5  | Busy     |\n| -73.97592 | 40.77362 | 9B-AM-1010-08  | 09B | AM | 10102018 | 8 | Adult    | Gray     | Cinnamon, White        | ⋯ | <!----> | <!----> | Blue jay                                                          | Busy       | <!----> |  1 |  9 | 30 | 5-15 | Busy     |\n| -73.97565 | 40.77036 | 6D-PM-1020-02  | 06D | PM | 10202018 | 2 | Juvenile | Gray     | <!----> | ⋯ | Some | <!----> | Humans, Dogs                                                      | Busy       | <!----> |  1 |  6 | 25 | 5-15 | Busy     |\n| -73.96629 | 40.78433 | 23C-AM-1019-01 | 23C | AM | 10192018 | 1 | Adult    | Gray     | Cinnamon, White        | ⋯ | None | <!----> | Humans, Dogs, Falcons                                             | Busy       | Noisy                                            |  1 |  1 | 23 | 0-5  | Busy     |\n| -73.96454 | 40.78116 | 21F-PM-1018-02 | 21F | PM | 10182018 | 2 | Juvenile | Cinnamon | Gray                   | ⋯ | Some | <!----> | Humans, Dogs                                                      | Busy       | <!----> |  1 |  3 | 25 | 0-5  | Busy     |\n| -73.96394 | 40.79087 | 30B-AM-1007-04 | 30B | AM | 10072018 | 4 | Adult    | Gray     | <!----> | ⋯ | Some | <!----> | Humans, Dogs, Assorted Birds                                      | Busy       | <!----> |  1 | 12 | 20 | 5-15 | Busy     |\n| -73.97040 | 40.78256 | 19A-PM-1013-05 | 19A | PM | 10132018 | 5 | Adult    | Gray     | White                  | ⋯ | Some | 1 reusable bag | Humans, Dogs, Sparrows, Blue Finch-like Birds, Robins, Blackbirds | Busy       | <!----> |  1 |  6 | 26 | 5-15 | Busy     |\n| -73.96659 | 40.78368 | 22D-PM-1012-07 | 22D | PM | 10122018 | 7 | Adult    | Gray     | Black, Cinnamon, White | ⋯ | None | <!----> | Humans, Pigeons, Sparrows                                         | Calm, Busy | <!----> |  1 |  7 | 26 | 5-15 | Moderate |\n| -73.97548 | 40.76964 | 5E-PM-1012-01  | 05E | PM | 10122018 | 1 | Adult    | Cinnamon | Gray, White            | ⋯ | <!----> | <!----> | Humans                                                            | Busy       | <!----> |  1 |  6 | 44 | 5-15 | Busy     |\n\n",
            "text/latex": "A data.frame: 2867 × 46\n\\begin{tabular}{lllllllllllllllllllll}\n X & Y & Unique.Squirrel.ID & Hectare & Shift & Date.x & Hectare.Squirrel.Number & Age & Primary.Fur.Color & Highlight.Fur.Color & ⋯ & Litter & Litter.Notes & Other.Animal.Sightings & Hectare.Conditions & Hectare.Conditions.Notes & Number.of.sighters & Number.of.Squirrels & Total.Time.of.Sighting & PopRange & Conditions\\\\\n <dbl> & <dbl> & <chr> & <chr> & <chr> & <int> & <int> & <chr> & <chr> & <chr> & ⋯ & <chr> & <chr> & <chr> & <chr> & <chr> & <int> & <int> & <int> & <chr> & <chr>\\\\\n\\hline\n\t -73.95964 & 40.79031 & 32E-PM-1017-14 & 32E & PM & 10172018 & 14 & Adult    & Gray     &                        & ⋯ & Some     &                    & Humans, Dogs                                        & Busy     &    &  1 & 16 & 25 & 16+  & Busy    \\\\\n\t -73.97027 & 40.77621 & 13E-AM-1017-05 & 13E & AM & 10172018 &  5 & Adult    & Gray     & Cinnamon               & ⋯ & Some     &                    & Humans, Birds (non-pigeon)                          & Calm     &    &  1 & 13 & 50 & 5-15 & Calm    \\\\\n\t -73.96836 & 40.77259 & 11H-AM-1010-03 & 11H & AM & 10102018 &  3 & Adult    & Cinnamon & White                  & ⋯ & Some     &                    & Humans, Sparrows                                    & Calm     &    &  1 &  9 & 20 & 5-15 & Calm    \\\\\n\t -73.95412 & 40.79318 & 36H-AM-1010-02 & 36H & AM & 10102018 &  2 & Adult    & Gray     &                        & ⋯ & None     &                    & Dogs, lots of Blue jays \\& Gackels                   & Calm     &    &  1 &  2 & 26 & 0-5  & Calm    \\\\\n\t -73.95827 & 40.79174 & 33F-AM-1008-02 & 33F & AM & 10082018 &  2 & Adult    & Gray     &                        & ⋯ & None     &                    & Humans, Dogs, blue jay                              & Calm     &    &  1 &  2 & 25 & 0-5  & Calm    \\\\\n\t -73.96743 & 40.78297 & 21C-PM-1006-01 & 21C & PM & 10062018 &  1 & Adult    & Gray     &                        & ⋯ & Some     &                    & Humans                                              & Busy     &    &  2 &  1 & 25 & 0-5  & Busy    \\\\\n\t -73.97225 & 40.77429 & 11D-AM-1010-03 & 11D & AM & 10102018 &  3 & Adult    & Gray     & Cinnamon               & ⋯ & None     &                    & Humans, Dogs, Blue jays, Robins                     & Calm     &    &  1 &  8 & 20 & 5-15 & Calm    \\\\\n\t -73.96951 & 40.78235 & 20B-PM-1013-05 & 20B & PM & 10132018 &  5 & Adult    & Gray     & White                  & ⋯ & Some     & 1 piece of plastic & Humans, Dogs, Pigeons, Robins, Blackbirds, Sparrows & Busy     &    &  1 & 10 & 22 & 5-15 & Busy    \\\\\n\t -73.96400 & 40.78203 & 22F-PM-1014-06 & 22F & PM & 10142018 &  6 & Adult    & Gray     &                        & ⋯ &          &                    & Humans                                              & Busy     &    &  1 &  8 & 20 & 5-15 & Busy    \\\\\n\t -73.95322 & 40.79197 & 36I-PM-1007-01 & 36I & PM & 10072018 &  1 & Adult    & Gray     & Cinnamon               & ⋯ & None     &                    & Humans, Dogs, Blue jays. Robins, Sparrows           & Busy     &    &  1 & 13 & 30 & 5-15 & Busy    \\\\\n\t -73.97686 & 40.77028 & 5C-PM-1010-09  & 05C & PM & 10102018 &  9 & Adult    & Cinnamon & Gray                   & ⋯ & None     &                    & Humans, Dogs                                        & Busy     &    &  1 & 13 & 20 & 5-15 & Busy    \\\\\n\t -73.97061 & 40.76981 & 7H-AM-1006-05  & 07H & AM & 10062018 &  5 & Adult    & Gray     & Cinnamon               & ⋯ & Some     &                    & Sparrows, Butterflies                               & Busy     &    &  2 & 16 & 30 & 16+  & Busy    \\\\\n\t -73.97038 & 40.77875 & 16C-PM-1018-03 & 16C & PM & 10182018 &  3 & Adult    & Gray     & Cinnamon, White        & ⋯ & Some     &                    & Humans, Birds (unknown), Chipmunk                   & Busy     &    &  1 &  3 & 24 & 0-5  & Busy    \\\\\n\t -73.97039 & 40.77650 & 14E-AM-1008-23 & 14E & AM & 10082018 & 23 & Adult    & Gray     &                        & ⋯ & Some     &                    & Humans                                              & Calm     &    &  1 & 23 & 40 & 16+  & Calm    \\\\\n\t -73.96382 & 40.79242 & 32A-PM-1013-03 & 32A & PM & 10132018 &  3 & Juvenile & Gray     & Cinnamon               & ⋯ & NA       & NA                 & NA                                                  & NA       & NA & NA & NA & NA & NA   & NA      \\\\\n\t -73.95841 & 40.79138 & 33F-AM-1008-01 & 33F & AM & 10082018 &  1 & Adult    & Gray     &                        & ⋯ & None     &                    & Humans, Dogs, blue jay                              & Calm     &    &  1 &  2 & 25 & 0-5  & Calm    \\\\\n\t -73.96711 & 40.77849 & 17F-AM-1007-07 & 17F & AM & 10072018 &  7 & Adult    & Gray     & White                  & ⋯ & None     &                    & Humans, Dogs                                        & Moderate &    &  1 &  7 & 50 & 5-15 & Moderate\\\\\n\t -73.96499 & 40.77649 & 16I-AM-1008-01 & 16I & AM & 10082018 &  1 & Adult    & Cinnamon & Gray, White            & ⋯ & Some     &                    & Humans                                              & Calm     &    &  1 &  4 & 25 & 0-5  & Calm    \\\\\n\t -73.96706 & 40.77350 & 12I-AM-1013-01 & 12I & AM & 10132018 &  1 & Adult    & Cinnamon & White                  & ⋯ & None     &                    & Humans, Dogs                                        & Calm     &    &  1 &  1 & 25 & 0-5  & Calm    \\\\\n\t -73.95874 & 40.79085 & 32F-PM-1008-07 & 32F & PM & 10082018 &  7 & Adult    & Gray     &                        & ⋯ & Some     &                    & Humans, Dogs                                        & Busy     &    &  1 &  8 & 30 & 5-15 & Busy    \\\\\n\t -73.96929 & 40.77695 & 15E-AM-1013-01 & 15E & AM & 10132018 &  1 & Adult    & Gray     & White                  & ⋯ & None     &                    & Humans                                              & Calm     &    &  1 &  4 & 20 & 0-5  & Calm    \\\\\n\t -73.95401 & 40.79524 & 39G-PM-1013-06 & 39G & PM & 10132018 &  6 & Adult    & Gray     & Cinnamon               & ⋯ & Some     &                    & Humans, Sleeping possum, Chipmunk, Blue jay         & Calm     &    &  2 &  7 & 24 & 5-15 & Calm    \\\\\n\t -73.97380 & 40.77118 & 7E-AM-1006-02  & 07E & AM & 10062018 &  2 & Adult    & Gray     &                        & ⋯ &          &                    & Humans, Dogs, Pigeons                               & Calm     &    &  1 &  6 & 26 & 5-15 & Calm    \\\\\n\t -73.97044 & 40.77990 & 17C-PM-1013-05 & 17C & PM & 10132018 &  5 & Adult    & Gray     &                        & ⋯ & None     &                    & Humans                                              & Busy     &    &  1 &  5 & 25 & 0-5  & Busy    \\\\\n\t -73.97570 & 40.77539 & 10A-PM-1014-01 & 10A & PM & 10142018 &  1 & Adult    & Gray     & Black, Cinnamon, White & ⋯ & NA       & NA                 & NA                                                  & NA       & NA & NA & NA & NA & NA   & NA      \\\\\n\t -73.96624 & 40.78904 & 28A-PM-1007-05 & 28A & PM & 10072018 &  5 & Adult    & Cinnamon &                        & ⋯ & Abundant &                    & Humans, Dogs, Birds                                 & Busy     &    &  1 &  5 & 20 & 0-5  & Busy    \\\\\n\t -73.96432 & 40.78208 & 22F-PM-1014-05 & 22F & PM & 10142018 &  5 & Adult    & Gray     & Cinnamon               & ⋯ &          &                    & Humans                                              & Busy     &    &  1 &  8 & 20 & 5-15 & Busy    \\\\\n\t -73.97421 & 40.77580 & 12B-AM-1007-01 & 12B & AM & 10072018 &  1 & Adult    & Gray     & Cinnamon               & ⋯ & Some     &                    & Dogs                                                & Busy     &    &  1 &  2 & NA & 0-5  & Busy    \\\\\n\t -73.97161 & 40.78139 & 18A-PM-1018-01 & 18A & PM & 10182018 &  1 & Adult    & Gray     &                        & ⋯ & Some     &                    & Dogs, Robins, Mourning Dove, Sparrow                & Busy     &    &  1 &  1 & 20 & 0-5  & Busy    \\\\\n\t -73.95657 & 40.79026 & 33H-AM-1019-02 & 33H & AM & 10192018 &  2 & Juvenile & Gray     & Cinnamon               & ⋯ &          &                    & Humans, Dogs                                        & Calm     &    &  1 &  2 & 20 & 0-5  & Calm    \\\\\n\t ⋮ & ⋮ & ⋮ & ⋮ & ⋮ & ⋮ & ⋮ & ⋮ & ⋮ & ⋮ & ⋱ & ⋮ & ⋮ & ⋮ & ⋮ & ⋮ & ⋮ & ⋮ & ⋮ & ⋮ & ⋮\\\\\n\t -73.97660 & 40.77123 & 6C-AM-1007-05  & 06C & AM & 10072018 & 5 & Adult    & Gray     &                        & ⋯ & None &                & Humans, Dogs                                                      & Busy       & T/V busy with cars. Lots on dogs in ball fields. &  1 &  8 & 25 & 5-15 & Busy    \\\\\n\t -73.96846 & 40.78489 & 23A-AM-1018-05 & 23A & AM & 10182018 & 5 & Adult    & Gray     &                        & ⋯ & None &                & Humans, Dogs                                                      & Calm       &                                                  &  1 &  5 & 25 & 0-5  & Calm    \\\\\n\t -73.97461 & 40.76877 & 4F-PM-1013-03  & 04F & PM & 10132018 & 3 & Juvenile & Cinnamon & Gray                   & ⋯ & None &                & Humans, Dogs, Birds, Rats (Fat), Inchworm                         & Busy       &                                                  &  2 &  4 & 20 & 0-5  & Busy    \\\\\n\t -73.95707 & 40.79857 & 40C-AM-1017-04 & 40C & AM & 10172018 & 4 & Adult    & Gray     & Cinnamon               & ⋯ & None &                & Humans, Chipmunk, migratory birds                                 & Calm       &                                                  &  1 &  7 & 23 & 5-15 & Calm    \\\\\n\t -73.96172 & 40.79228 & 33B-AM-1010-01 & 33B & AM & 10102018 & 1 & Adult    & Gray     &                        & ⋯ & None &                & Humans, Dogs                                                      & Calm       &                                                  &  1 &  6 & 30 & 5-15 & Calm    \\\\\n\t -73.97003 & 40.77726 & 15E-PM-1008-08 & 15E & PM & 10082018 & 8 & Adult    & Gray     &                        & ⋯ & Some &                & Humans                                                            & Moderate   &                                                  &  1 & 11 & 33 & 5-15 & Moderate\\\\\n\t -73.96197 & 40.79447 & 35A-PM-1013-01 & 35A & PM & 10132018 & 1 & Adult    & Gray     & White                  & ⋯ & None &                & Humans, Dogs                                                      & Calm       &                                                  &  1 & 12 & 20 & 5-15 & Calm    \\\\\n\t -73.97521 & 40.77554 & 11B-AM-1007-01 & 11B & AM & 10072018 & 1 & Adult    & Cinnamon & Gray                   & ⋯ & Some &                & Humans, Dogs, Pigeons, Horses                                     & Busy       &                                                  &  1 &  5 & 30 & 0-5  & Busy    \\\\\n\t -73.97242 & 40.77308 & 10E-AM-1010-02 & 10E & AM & 10102018 & 2 & Adult    & Black    & Gray                   & ⋯ & Some &                & Humans, Dogs                                                      & Busy       &                                                  &  1 &  2 & 25 & 0-5  & Busy    \\\\\n\t -73.96883 & 40.77390 & 12G-AM-1012-04 & 12G & AM & 10122018 & 4 & Adult    & Gray     & Cinnamon, White        & ⋯ & None &                & Humans, Dogs, Blue jay, Sparrows                                  & Calm       &                                                  &  1 &  5 & 20 & 0-5  & Calm    \\\\\n\t -73.97756 & 40.76685 & 1D-PM-1007-01  & 01D & PM & 10072018 & 1 & Adult    & Gray     & Cinnamon, White        & ⋯ & NA   & NA             & NA                                                                & NA         & NA                                               & NA & NA & NA & NA   & NA      \\\\\n\t -73.97110 & 40.76898 & 6H-PM-1020-01  & 06H & PM & 10202018 & 1 & Adult    & Gray     & Cinnamon, White        & ⋯ & None &                & Humans, Birds, Cardinal                                           & Calm       &                                                  &  1 &  3 & 25 & 0-5  & Calm    \\\\\n\t -73.96987 & 40.77400 & 12F-PM-1007-09 & 12F & PM & 10072018 & 9 & Adult    & Cinnamon & Gray                   & ⋯ &      &                & Humans, Dogs, Pigeons                                             & Busy       &                                                  &  1 & 15 & 21 & 5-15 & Busy    \\\\\n\t -73.95285 & 40.79221 & 36I-PM-1007-08 & 36I & PM & 10072018 & 8 & Juvenile & Cinnamon & Gray                   & ⋯ & None &                & Humans, Dogs, Blue jays. Robins, Sparrows                         & Busy       &                                                  &  1 & 13 & 30 & 5-15 & Busy    \\\\\n\t -73.96161 & 40.79218 & 33C-PM-1007-04 & 33C & PM & 10072018 & 4 & Adult    & Gray     & White                  & ⋯ & Some &                & Humans, Dogs, Birds                                               & Busy       &                                                  &  1 &  4 & 20 & 0-5  & Busy    \\\\\n\t -73.97444 & 40.76632 & 2G-AM-1010-02  & 02G & AM & 10102018 & 2 & Adult    & Gray     &                        & ⋯ & None &                & Humans, Dogs                                                      & Busy       &                                                  &  1 &  4 & 20 & 0-5  & Busy    \\\\\n\t -73.96351 & 40.79128 & 31B-AM-1017-01 & 31B & AM & 10172018 & 1 & Adult    & Gray     &                        & ⋯ & None &                & Humans, Dogs                                                      & Busy       &                                                  &  1 &  3 & 30 & 0-5  & Busy    \\\\\n\t -73.95035 & 40.79765 & 42H-PM-1014-04 & 42H & PM & 10142018 & 4 & Adult    & Gray     & Cinnamon               & ⋯ & Some &                & Humans, Dogs, Pigeons                                             & Busy       &                                                  &  1 &  5 & 30 & 0-5  & Busy    \\\\\n\t -73.95809 & 40.79484 & 37D-PM-1014-01 & 37D & PM & 10142018 & 1 & Adult    & Gray     & Cinnamon               & ⋯ & Some &                & Humans, Chipmunks                                                 & Calm       &                                                  &  1 &  8 & 26 & 5-15 & Calm    \\\\\n\t -73.96788 & 40.78476 & 23B-PM-1012-06 & 23B & PM & 10122018 & 6 & Adult    & Gray     &                        & ⋯ & None &                & Humans, Dogs, Robins, Jays                                        & Busy       &                                                  &  1 &  7 & 26 & 5-15 & Busy    \\\\\n\t -73.96137 & 40.79434 & 35B-PM-1013-04 & 35B & PM & 10132018 & 4 & Adult    & Gray     &                        & ⋯ & None &                & Humans, Dogs, Rats, Ducks, Canada Geese                           & Calm       & Foot traffic on the path                         &  1 &  7 & 28 & 5-15 & Calm    \\\\\n\t -73.96466 & 40.77698 & 17I-AM-1014-03 & 17I & AM & 10142018 & 3 & Adult    & Gray     & Cinnamon, White        & ⋯ & Some &                & Humans, Dogs                                                      & Busy       & With street noise                                &  1 &  4 & 27 & 0-5  & Busy    \\\\\n\t -73.97592 & 40.77362 & 9B-AM-1010-08  & 09B & AM & 10102018 & 8 & Adult    & Gray     & Cinnamon, White        & ⋯ &      &                & Blue jay                                                          & Busy       &                                                  &  1 &  9 & 30 & 5-15 & Busy    \\\\\n\t -73.97565 & 40.77036 & 6D-PM-1020-02  & 06D & PM & 10202018 & 2 & Juvenile & Gray     &                        & ⋯ & Some &                & Humans, Dogs                                                      & Busy       &                                                  &  1 &  6 & 25 & 5-15 & Busy    \\\\\n\t -73.96629 & 40.78433 & 23C-AM-1019-01 & 23C & AM & 10192018 & 1 & Adult    & Gray     & Cinnamon, White        & ⋯ & None &                & Humans, Dogs, Falcons                                             & Busy       & Noisy                                            &  1 &  1 & 23 & 0-5  & Busy    \\\\\n\t -73.96454 & 40.78116 & 21F-PM-1018-02 & 21F & PM & 10182018 & 2 & Juvenile & Cinnamon & Gray                   & ⋯ & Some &                & Humans, Dogs                                                      & Busy       &                                                  &  1 &  3 & 25 & 0-5  & Busy    \\\\\n\t -73.96394 & 40.79087 & 30B-AM-1007-04 & 30B & AM & 10072018 & 4 & Adult    & Gray     &                        & ⋯ & Some &                & Humans, Dogs, Assorted Birds                                      & Busy       &                                                  &  1 & 12 & 20 & 5-15 & Busy    \\\\\n\t -73.97040 & 40.78256 & 19A-PM-1013-05 & 19A & PM & 10132018 & 5 & Adult    & Gray     & White                  & ⋯ & Some & 1 reusable bag & Humans, Dogs, Sparrows, Blue Finch-like Birds, Robins, Blackbirds & Busy       &                                                  &  1 &  6 & 26 & 5-15 & Busy    \\\\\n\t -73.96659 & 40.78368 & 22D-PM-1012-07 & 22D & PM & 10122018 & 7 & Adult    & Gray     & Black, Cinnamon, White & ⋯ & None &                & Humans, Pigeons, Sparrows                                         & Calm, Busy &                                                  &  1 &  7 & 26 & 5-15 & Moderate\\\\\n\t -73.97548 & 40.76964 & 5E-PM-1012-01  & 05E & PM & 10122018 & 1 & Adult    & Cinnamon & Gray, White            & ⋯ &      &                & Humans                                                            & Busy       &                                                  &  1 &  6 & 44 & 5-15 & Busy    \\\\\n\\end{tabular}\n",
            "text/plain": [
              "     X         Y        Unique.Squirrel.ID Hectare Shift Date.x  \n",
              "1    -73.95964 40.79031 32E-PM-1017-14     32E     PM    10172018\n",
              "2    -73.97027 40.77621 13E-AM-1017-05     13E     AM    10172018\n",
              "3    -73.96836 40.77259 11H-AM-1010-03     11H     AM    10102018\n",
              "4    -73.95412 40.79318 36H-AM-1010-02     36H     AM    10102018\n",
              "5    -73.95827 40.79174 33F-AM-1008-02     33F     AM    10082018\n",
              "6    -73.96743 40.78297 21C-PM-1006-01     21C     PM    10062018\n",
              "7    -73.97225 40.77429 11D-AM-1010-03     11D     AM    10102018\n",
              "8    -73.96951 40.78235 20B-PM-1013-05     20B     PM    10132018\n",
              "9    -73.96400 40.78203 22F-PM-1014-06     22F     PM    10142018\n",
              "10   -73.95322 40.79197 36I-PM-1007-01     36I     PM    10072018\n",
              "11   -73.97686 40.77028 5C-PM-1010-09      05C     PM    10102018\n",
              "12   -73.97061 40.76981 7H-AM-1006-05      07H     AM    10062018\n",
              "13   -73.97038 40.77875 16C-PM-1018-03     16C     PM    10182018\n",
              "14   -73.97039 40.77650 14E-AM-1008-23     14E     AM    10082018\n",
              "15   -73.96382 40.79242 32A-PM-1013-03     32A     PM    10132018\n",
              "16   -73.95841 40.79138 33F-AM-1008-01     33F     AM    10082018\n",
              "17   -73.96711 40.77849 17F-AM-1007-07     17F     AM    10072018\n",
              "18   -73.96499 40.77649 16I-AM-1008-01     16I     AM    10082018\n",
              "19   -73.96706 40.77350 12I-AM-1013-01     12I     AM    10132018\n",
              "20   -73.95874 40.79085 32F-PM-1008-07     32F     PM    10082018\n",
              "21   -73.96929 40.77695 15E-AM-1013-01     15E     AM    10132018\n",
              "22   -73.95401 40.79524 39G-PM-1013-06     39G     PM    10132018\n",
              "23   -73.97380 40.77118 7E-AM-1006-02      07E     AM    10062018\n",
              "24   -73.97044 40.77990 17C-PM-1013-05     17C     PM    10132018\n",
              "25   -73.97570 40.77539 10A-PM-1014-01     10A     PM    10142018\n",
              "26   -73.96624 40.78904 28A-PM-1007-05     28A     PM    10072018\n",
              "27   -73.96432 40.78208 22F-PM-1014-05     22F     PM    10142018\n",
              "28   -73.97421 40.77580 12B-AM-1007-01     12B     AM    10072018\n",
              "29   -73.97161 40.78139 18A-PM-1018-01     18A     PM    10182018\n",
              "30   -73.95657 40.79026 33H-AM-1019-02     33H     AM    10192018\n",
              "⋮    ⋮         ⋮        ⋮                  ⋮       ⋮     ⋮       \n",
              "2838 -73.97660 40.77123 6C-AM-1007-05      06C     AM    10072018\n",
              "2839 -73.96846 40.78489 23A-AM-1018-05     23A     AM    10182018\n",
              "2840 -73.97461 40.76877 4F-PM-1013-03      04F     PM    10132018\n",
              "2841 -73.95707 40.79857 40C-AM-1017-04     40C     AM    10172018\n",
              "2842 -73.96172 40.79228 33B-AM-1010-01     33B     AM    10102018\n",
              "2843 -73.97003 40.77726 15E-PM-1008-08     15E     PM    10082018\n",
              "2844 -73.96197 40.79447 35A-PM-1013-01     35A     PM    10132018\n",
              "2845 -73.97521 40.77554 11B-AM-1007-01     11B     AM    10072018\n",
              "2846 -73.97242 40.77308 10E-AM-1010-02     10E     AM    10102018\n",
              "2847 -73.96883 40.77390 12G-AM-1012-04     12G     AM    10122018\n",
              "2848 -73.97756 40.76685 1D-PM-1007-01      01D     PM    10072018\n",
              "2849 -73.97110 40.76898 6H-PM-1020-01      06H     PM    10202018\n",
              "2850 -73.96987 40.77400 12F-PM-1007-09     12F     PM    10072018\n",
              "2851 -73.95285 40.79221 36I-PM-1007-08     36I     PM    10072018\n",
              "2852 -73.96161 40.79218 33C-PM-1007-04     33C     PM    10072018\n",
              "2853 -73.97444 40.76632 2G-AM-1010-02      02G     AM    10102018\n",
              "2854 -73.96351 40.79128 31B-AM-1017-01     31B     AM    10172018\n",
              "2855 -73.95035 40.79765 42H-PM-1014-04     42H     PM    10142018\n",
              "2856 -73.95809 40.79484 37D-PM-1014-01     37D     PM    10142018\n",
              "2857 -73.96788 40.78476 23B-PM-1012-06     23B     PM    10122018\n",
              "2858 -73.96137 40.79434 35B-PM-1013-04     35B     PM    10132018\n",
              "2859 -73.96466 40.77698 17I-AM-1014-03     17I     AM    10142018\n",
              "2860 -73.97592 40.77362 9B-AM-1010-08      09B     AM    10102018\n",
              "2861 -73.97565 40.77036 6D-PM-1020-02      06D     PM    10202018\n",
              "2862 -73.96629 40.78433 23C-AM-1019-01     23C     AM    10192018\n",
              "2863 -73.96454 40.78116 21F-PM-1018-02     21F     PM    10182018\n",
              "2864 -73.96394 40.79087 30B-AM-1007-04     30B     AM    10072018\n",
              "2865 -73.97040 40.78256 19A-PM-1013-05     19A     PM    10132018\n",
              "2866 -73.96659 40.78368 22D-PM-1012-07     22D     PM    10122018\n",
              "2867 -73.97548 40.76964 5E-PM-1012-01      05E     PM    10122018\n",
              "     Hectare.Squirrel.Number Age      Primary.Fur.Color Highlight.Fur.Color   \n",
              "1    14                      Adult    Gray                                    \n",
              "2     5                      Adult    Gray              Cinnamon              \n",
              "3     3                      Adult    Cinnamon          White                 \n",
              "4     2                      Adult    Gray                                    \n",
              "5     2                      Adult    Gray                                    \n",
              "6     1                      Adult    Gray                                    \n",
              "7     3                      Adult    Gray              Cinnamon              \n",
              "8     5                      Adult    Gray              White                 \n",
              "9     6                      Adult    Gray                                    \n",
              "10    1                      Adult    Gray              Cinnamon              \n",
              "11    9                      Adult    Cinnamon          Gray                  \n",
              "12    5                      Adult    Gray              Cinnamon              \n",
              "13    3                      Adult    Gray              Cinnamon, White       \n",
              "14   23                      Adult    Gray                                    \n",
              "15    3                      Juvenile Gray              Cinnamon              \n",
              "16    1                      Adult    Gray                                    \n",
              "17    7                      Adult    Gray              White                 \n",
              "18    1                      Adult    Cinnamon          Gray, White           \n",
              "19    1                      Adult    Cinnamon          White                 \n",
              "20    7                      Adult    Gray                                    \n",
              "21    1                      Adult    Gray              White                 \n",
              "22    6                      Adult    Gray              Cinnamon              \n",
              "23    2                      Adult    Gray                                    \n",
              "24    5                      Adult    Gray                                    \n",
              "25    1                      Adult    Gray              Black, Cinnamon, White\n",
              "26    5                      Adult    Cinnamon                                \n",
              "27    5                      Adult    Gray              Cinnamon              \n",
              "28    1                      Adult    Gray              Cinnamon              \n",
              "29    1                      Adult    Gray                                    \n",
              "30    2                      Juvenile Gray              Cinnamon              \n",
              "⋮    ⋮                       ⋮        ⋮                 ⋮                     \n",
              "2838 5                       Adult    Gray                                    \n",
              "2839 5                       Adult    Gray                                    \n",
              "2840 3                       Juvenile Cinnamon          Gray                  \n",
              "2841 4                       Adult    Gray              Cinnamon              \n",
              "2842 1                       Adult    Gray                                    \n",
              "2843 8                       Adult    Gray                                    \n",
              "2844 1                       Adult    Gray              White                 \n",
              "2845 1                       Adult    Cinnamon          Gray                  \n",
              "2846 2                       Adult    Black             Gray                  \n",
              "2847 4                       Adult    Gray              Cinnamon, White       \n",
              "2848 1                       Adult    Gray              Cinnamon, White       \n",
              "2849 1                       Adult    Gray              Cinnamon, White       \n",
              "2850 9                       Adult    Cinnamon          Gray                  \n",
              "2851 8                       Juvenile Cinnamon          Gray                  \n",
              "2852 4                       Adult    Gray              White                 \n",
              "2853 2                       Adult    Gray                                    \n",
              "2854 1                       Adult    Gray                                    \n",
              "2855 4                       Adult    Gray              Cinnamon              \n",
              "2856 1                       Adult    Gray              Cinnamon              \n",
              "2857 6                       Adult    Gray                                    \n",
              "2858 4                       Adult    Gray                                    \n",
              "2859 3                       Adult    Gray              Cinnamon, White       \n",
              "2860 8                       Adult    Gray              Cinnamon, White       \n",
              "2861 2                       Juvenile Gray                                    \n",
              "2862 1                       Adult    Gray              Cinnamon, White       \n",
              "2863 2                       Juvenile Cinnamon          Gray                  \n",
              "2864 4                       Adult    Gray                                    \n",
              "2865 5                       Adult    Gray              White                 \n",
              "2866 7                       Adult    Gray              Black, Cinnamon, White\n",
              "2867 1                       Adult    Cinnamon          Gray, White           \n",
              "     ⋯ Litter   Litter.Notes      \n",
              "1    ⋯ Some                       \n",
              "2    ⋯ Some                       \n",
              "3    ⋯ Some                       \n",
              "4    ⋯ None                       \n",
              "5    ⋯ None                       \n",
              "6    ⋯ Some                       \n",
              "7    ⋯ None                       \n",
              "8    ⋯ Some     1 piece of plastic\n",
              "9    ⋯                            \n",
              "10   ⋯ None                       \n",
              "11   ⋯ None                       \n",
              "12   ⋯ Some                       \n",
              "13   ⋯ Some                       \n",
              "14   ⋯ Some                       \n",
              "15   ⋯ NA       NA                \n",
              "16   ⋯ None                       \n",
              "17   ⋯ None                       \n",
              "18   ⋯ Some                       \n",
              "19   ⋯ None                       \n",
              "20   ⋯ Some                       \n",
              "21   ⋯ None                       \n",
              "22   ⋯ Some                       \n",
              "23   ⋯                            \n",
              "24   ⋯ None                       \n",
              "25   ⋯ NA       NA                \n",
              "26   ⋯ Abundant                   \n",
              "27   ⋯                            \n",
              "28   ⋯ Some                       \n",
              "29   ⋯ Some                       \n",
              "30   ⋯                            \n",
              "⋮    ⋱ ⋮        ⋮                 \n",
              "2838 ⋯ None                       \n",
              "2839 ⋯ None                       \n",
              "2840 ⋯ None                       \n",
              "2841 ⋯ None                       \n",
              "2842 ⋯ None                       \n",
              "2843 ⋯ Some                       \n",
              "2844 ⋯ None                       \n",
              "2845 ⋯ Some                       \n",
              "2846 ⋯ Some                       \n",
              "2847 ⋯ None                       \n",
              "2848 ⋯ NA       NA                \n",
              "2849 ⋯ None                       \n",
              "2850 ⋯                            \n",
              "2851 ⋯ None                       \n",
              "2852 ⋯ Some                       \n",
              "2853 ⋯ None                       \n",
              "2854 ⋯ None                       \n",
              "2855 ⋯ Some                       \n",
              "2856 ⋯ Some                       \n",
              "2857 ⋯ None                       \n",
              "2858 ⋯ None                       \n",
              "2859 ⋯ Some                       \n",
              "2860 ⋯                            \n",
              "2861 ⋯ Some                       \n",
              "2862 ⋯ None                       \n",
              "2863 ⋯ Some                       \n",
              "2864 ⋯ Some                       \n",
              "2865 ⋯ Some     1 reusable bag    \n",
              "2866 ⋯ None                       \n",
              "2867 ⋯                            \n",
              "     Other.Animal.Sightings                                           \n",
              "1    Humans, Dogs                                                     \n",
              "2    Humans, Birds (non-pigeon)                                       \n",
              "3    Humans, Sparrows                                                 \n",
              "4    Dogs, lots of Blue jays & Gackels                                \n",
              "5    Humans, Dogs, blue jay                                           \n",
              "6    Humans                                                           \n",
              "7    Humans, Dogs, Blue jays, Robins                                  \n",
              "8    Humans, Dogs, Pigeons, Robins, Blackbirds, Sparrows              \n",
              "9    Humans                                                           \n",
              "10   Humans, Dogs, Blue jays. Robins, Sparrows                        \n",
              "11   Humans, Dogs                                                     \n",
              "12   Sparrows, Butterflies                                            \n",
              "13   Humans, Birds (unknown), Chipmunk                                \n",
              "14   Humans                                                           \n",
              "15   NA                                                               \n",
              "16   Humans, Dogs, blue jay                                           \n",
              "17   Humans, Dogs                                                     \n",
              "18   Humans                                                           \n",
              "19   Humans, Dogs                                                     \n",
              "20   Humans, Dogs                                                     \n",
              "21   Humans                                                           \n",
              "22   Humans, Sleeping possum, Chipmunk, Blue jay                      \n",
              "23   Humans, Dogs, Pigeons                                            \n",
              "24   Humans                                                           \n",
              "25   NA                                                               \n",
              "26   Humans, Dogs, Birds                                              \n",
              "27   Humans                                                           \n",
              "28   Dogs                                                             \n",
              "29   Dogs, Robins, Mourning Dove, Sparrow                             \n",
              "30   Humans, Dogs                                                     \n",
              "⋮    ⋮                                                                \n",
              "2838 Humans, Dogs                                                     \n",
              "2839 Humans, Dogs                                                     \n",
              "2840 Humans, Dogs, Birds, Rats (Fat), Inchworm                        \n",
              "2841 Humans, Chipmunk, migratory birds                                \n",
              "2842 Humans, Dogs                                                     \n",
              "2843 Humans                                                           \n",
              "2844 Humans, Dogs                                                     \n",
              "2845 Humans, Dogs, Pigeons, Horses                                    \n",
              "2846 Humans, Dogs                                                     \n",
              "2847 Humans, Dogs, Blue jay, Sparrows                                 \n",
              "2848 NA                                                               \n",
              "2849 Humans, Birds, Cardinal                                          \n",
              "2850 Humans, Dogs, Pigeons                                            \n",
              "2851 Humans, Dogs, Blue jays. Robins, Sparrows                        \n",
              "2852 Humans, Dogs, Birds                                              \n",
              "2853 Humans, Dogs                                                     \n",
              "2854 Humans, Dogs                                                     \n",
              "2855 Humans, Dogs, Pigeons                                            \n",
              "2856 Humans, Chipmunks                                                \n",
              "2857 Humans, Dogs, Robins, Jays                                       \n",
              "2858 Humans, Dogs, Rats, Ducks, Canada Geese                          \n",
              "2859 Humans, Dogs                                                     \n",
              "2860 Blue jay                                                         \n",
              "2861 Humans, Dogs                                                     \n",
              "2862 Humans, Dogs, Falcons                                            \n",
              "2863 Humans, Dogs                                                     \n",
              "2864 Humans, Dogs, Assorted Birds                                     \n",
              "2865 Humans, Dogs, Sparrows, Blue Finch-like Birds, Robins, Blackbirds\n",
              "2866 Humans, Pigeons, Sparrows                                        \n",
              "2867 Humans                                                           \n",
              "     Hectare.Conditions Hectare.Conditions.Notes                        \n",
              "1    Busy                                                               \n",
              "2    Calm                                                               \n",
              "3    Calm                                                               \n",
              "4    Calm                                                               \n",
              "5    Calm                                                               \n",
              "6    Busy                                                               \n",
              "7    Calm                                                               \n",
              "8    Busy                                                               \n",
              "9    Busy                                                               \n",
              "10   Busy                                                               \n",
              "11   Busy                                                               \n",
              "12   Busy                                                               \n",
              "13   Busy                                                               \n",
              "14   Calm                                                               \n",
              "15   NA                 NA                                              \n",
              "16   Calm                                                               \n",
              "17   Moderate                                                           \n",
              "18   Calm                                                               \n",
              "19   Calm                                                               \n",
              "20   Busy                                                               \n",
              "21   Calm                                                               \n",
              "22   Calm                                                               \n",
              "23   Calm                                                               \n",
              "24   Busy                                                               \n",
              "25   NA                 NA                                              \n",
              "26   Busy                                                               \n",
              "27   Busy                                                               \n",
              "28   Busy                                                               \n",
              "29   Busy                                                               \n",
              "30   Calm                                                               \n",
              "⋮    ⋮                  ⋮                                               \n",
              "2838 Busy               T/V busy with cars. Lots on dogs in ball fields.\n",
              "2839 Calm                                                               \n",
              "2840 Busy                                                               \n",
              "2841 Calm                                                               \n",
              "2842 Calm                                                               \n",
              "2843 Moderate                                                           \n",
              "2844 Calm                                                               \n",
              "2845 Busy                                                               \n",
              "2846 Busy                                                               \n",
              "2847 Calm                                                               \n",
              "2848 NA                 NA                                              \n",
              "2849 Calm                                                               \n",
              "2850 Busy                                                               \n",
              "2851 Busy                                                               \n",
              "2852 Busy                                                               \n",
              "2853 Busy                                                               \n",
              "2854 Busy                                                               \n",
              "2855 Busy                                                               \n",
              "2856 Calm                                                               \n",
              "2857 Busy                                                               \n",
              "2858 Calm               Foot traffic on the path                        \n",
              "2859 Busy               With street noise                               \n",
              "2860 Busy                                                               \n",
              "2861 Busy                                                               \n",
              "2862 Busy               Noisy                                           \n",
              "2863 Busy                                                               \n",
              "2864 Busy                                                               \n",
              "2865 Busy                                                               \n",
              "2866 Calm, Busy                                                         \n",
              "2867 Busy                                                               \n",
              "     Number.of.sighters Number.of.Squirrels Total.Time.of.Sighting PopRange\n",
              "1     1                 16                  25                     16+     \n",
              "2     1                 13                  50                     5-15    \n",
              "3     1                  9                  20                     5-15    \n",
              "4     1                  2                  26                     0-5     \n",
              "5     1                  2                  25                     0-5     \n",
              "6     2                  1                  25                     0-5     \n",
              "7     1                  8                  20                     5-15    \n",
              "8     1                 10                  22                     5-15    \n",
              "9     1                  8                  20                     5-15    \n",
              "10    1                 13                  30                     5-15    \n",
              "11    1                 13                  20                     5-15    \n",
              "12    2                 16                  30                     16+     \n",
              "13    1                  3                  24                     0-5     \n",
              "14    1                 23                  40                     16+     \n",
              "15   NA                 NA                  NA                     NA      \n",
              "16    1                  2                  25                     0-5     \n",
              "17    1                  7                  50                     5-15    \n",
              "18    1                  4                  25                     0-5     \n",
              "19    1                  1                  25                     0-5     \n",
              "20    1                  8                  30                     5-15    \n",
              "21    1                  4                  20                     0-5     \n",
              "22    2                  7                  24                     5-15    \n",
              "23    1                  6                  26                     5-15    \n",
              "24    1                  5                  25                     0-5     \n",
              "25   NA                 NA                  NA                     NA      \n",
              "26    1                  5                  20                     0-5     \n",
              "27    1                  8                  20                     5-15    \n",
              "28    1                  2                  NA                     0-5     \n",
              "29    1                  1                  20                     0-5     \n",
              "30    1                  2                  20                     0-5     \n",
              "⋮    ⋮                  ⋮                   ⋮                      ⋮       \n",
              "2838  1                  8                  25                     5-15    \n",
              "2839  1                  5                  25                     0-5     \n",
              "2840  2                  4                  20                     0-5     \n",
              "2841  1                  7                  23                     5-15    \n",
              "2842  1                  6                  30                     5-15    \n",
              "2843  1                 11                  33                     5-15    \n",
              "2844  1                 12                  20                     5-15    \n",
              "2845  1                  5                  30                     0-5     \n",
              "2846  1                  2                  25                     0-5     \n",
              "2847  1                  5                  20                     0-5     \n",
              "2848 NA                 NA                  NA                     NA      \n",
              "2849  1                  3                  25                     0-5     \n",
              "2850  1                 15                  21                     5-15    \n",
              "2851  1                 13                  30                     5-15    \n",
              "2852  1                  4                  20                     0-5     \n",
              "2853  1                  4                  20                     0-5     \n",
              "2854  1                  3                  30                     0-5     \n",
              "2855  1                  5                  30                     0-5     \n",
              "2856  1                  8                  26                     5-15    \n",
              "2857  1                  7                  26                     5-15    \n",
              "2858  1                  7                  28                     5-15    \n",
              "2859  1                  4                  27                     0-5     \n",
              "2860  1                  9                  30                     5-15    \n",
              "2861  1                  6                  25                     5-15    \n",
              "2862  1                  1                  23                     0-5     \n",
              "2863  1                  3                  25                     0-5     \n",
              "2864  1                 12                  20                     5-15    \n",
              "2865  1                  6                  26                     5-15    \n",
              "2866  1                  7                  26                     5-15    \n",
              "2867  1                  6                  44                     5-15    \n",
              "     Conditions\n",
              "1    Busy      \n",
              "2    Calm      \n",
              "3    Calm      \n",
              "4    Calm      \n",
              "5    Calm      \n",
              "6    Busy      \n",
              "7    Calm      \n",
              "8    Busy      \n",
              "9    Busy      \n",
              "10   Busy      \n",
              "11   Busy      \n",
              "12   Busy      \n",
              "13   Busy      \n",
              "14   Calm      \n",
              "15   NA        \n",
              "16   Calm      \n",
              "17   Moderate  \n",
              "18   Calm      \n",
              "19   Calm      \n",
              "20   Busy      \n",
              "21   Calm      \n",
              "22   Calm      \n",
              "23   Calm      \n",
              "24   Busy      \n",
              "25   NA        \n",
              "26   Busy      \n",
              "27   Busy      \n",
              "28   Busy      \n",
              "29   Busy      \n",
              "30   Calm      \n",
              "⋮    ⋮         \n",
              "2838 Busy      \n",
              "2839 Calm      \n",
              "2840 Busy      \n",
              "2841 Calm      \n",
              "2842 Calm      \n",
              "2843 Moderate  \n",
              "2844 Calm      \n",
              "2845 Busy      \n",
              "2846 Busy      \n",
              "2847 Calm      \n",
              "2848 NA        \n",
              "2849 Calm      \n",
              "2850 Busy      \n",
              "2851 Busy      \n",
              "2852 Busy      \n",
              "2853 Busy      \n",
              "2854 Busy      \n",
              "2855 Busy      \n",
              "2856 Calm      \n",
              "2857 Busy      \n",
              "2858 Calm      \n",
              "2859 Busy      \n",
              "2860 Busy      \n",
              "2861 Busy      \n",
              "2862 Busy      \n",
              "2863 Busy      \n",
              "2864 Busy      \n",
              "2865 Busy      \n",
              "2866 Moderate  \n",
              "2867 Busy      "
            ]
          },
          "metadata": {}
        },
        {
          "output_type": "display_data",
          "data": {
            "text/plain": [
              "\n",
              "    Busy     Calm Moderate \n",
              "    1425     1087      198 "
            ]
          },
          "metadata": {}
        }
      ]
    },
    {
      "cell_type": "markdown",
      "source": [],
      "metadata": {
        "id": "9BXtDLSVtAvv"
      }
    },
    {
      "cell_type": "code",
      "source": [
        "combined_df <- read.csv(\"/content/combined.csv\")\n",
        "combined_df$Conditions <- rep(NA, nrow(combined_df))\n",
        "combined_df$Conditions[(combined_df$Hectare.Conditions == \"Calm, Busy\") | (combined_df$Hectare.Conditions == \"Medium\") |\n",
        "                        (combined_df$Hectare.Conditions == \"Moderate\")] <- \"Moderate\"\n",
        "combined_df$Conditions[(combined_df$Hectare.Conditions == \"Calm\")] <- \"Calm\"\n",
        "combined_df$Conditions[(combined_df$Hectare.Conditions == \"Busy\")] <- \"Busy\"\n"
      ],
      "metadata": {
        "id": "XbdDUyRhxD0M"
      },
      "execution_count": null,
      "outputs": []
    },
    {
      "cell_type": "code",
      "source": [
        "non_empty <- which(!is.na(combined_df$Conditions))\n",
        "combined_df <- combined_df[non_empty,]\n",
        "nrow(combined_df)\n",
        "write.csv(combined_df, \"combined.csv\")"
      ],
      "metadata": {
        "colab": {
          "base_uri": "https://localhost:8080/",
          "height": 34
        },
        "id": "J20BC4HmxyNU",
        "outputId": "85e7c48d-ff9b-4762-f1db-8930e37ffff4"
      },
      "execution_count": null,
      "outputs": [
        {
          "output_type": "display_data",
          "data": {
            "text/html": [
              "2710"
            ],
            "text/markdown": "2710",
            "text/latex": "2710",
            "text/plain": [
              "[1] 2710"
            ]
          },
          "metadata": {}
        }
      ]
    }
  ]
}